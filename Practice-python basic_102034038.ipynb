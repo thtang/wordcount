{
 "cells": [
  {
   "cell_type": "markdown",
   "metadata": {},
   "source": [
    "# Python Basic"
   ]
  },
  {
   "cell_type": "markdown",
   "metadata": {},
   "source": [
    "### File Operations"
   ]
  },
  {
   "cell_type": "markdown",
   "metadata": {},
   "source": [
    "Read file line by line"
   ]
  },
  {
   "cell_type": "code",
   "execution_count": 1,
   "metadata": {
    "collapsed": false
   },
   "outputs": [],
   "source": [
    "lines = []\n",
    "for line in open('building_global_community.txt'):\n",
    "    # delete the blank and line feed at the begining and end\n",
    "    line = line.strip()\n",
    "    # add processed line text into list 'lines'\n",
    "    lines.append(line)"
   ]
  },
  {
   "cell_type": "code",
   "execution_count": 4,
   "metadata": {
    "collapsed": false
   },
   "outputs": [
    {
     "data": {
      "text/plain": [
       "\"On our journey to connect the world, we often discuss products we're building and updates on our business. Today I want to focus on the most important question of all: are we building the world we all want?\""
      ]
     },
     "execution_count": 4,
     "metadata": {},
     "output_type": "execute_result"
    }
   ],
   "source": [
    "lines[2]"
   ]
  },
  {
   "cell_type": "markdown",
   "metadata": {},
   "source": [
    "or you can just write"
   ]
  },
  {
   "cell_type": "code",
   "execution_count": 31,
   "metadata": {
    "collapsed": false
   },
   "outputs": [],
   "source": [
    "# list comprehension\n",
    "lines = [line.strip() for line in open('building_global_community.txt')]"
   ]
  },
  {
   "cell_type": "code",
   "execution_count": 32,
   "metadata": {
    "collapsed": false
   },
   "outputs": [
    {
     "data": {
      "text/plain": [
       "'To our community,'"
      ]
     },
     "execution_count": 32,
     "metadata": {},
     "output_type": "execute_result"
    }
   ],
   "source": [
    "lines[0]"
   ]
  },
  {
   "cell_type": "markdown",
   "metadata": {},
   "source": [
    "### String operations"
   ]
  },
  {
   "cell_type": "code",
   "execution_count": 5,
   "metadata": {
    "collapsed": true
   },
   "outputs": [],
   "source": [
    "sentence = \"I want to eat an apple .\""
   ]
  },
  {
   "cell_type": "markdown",
   "metadata": {},
   "source": [
    "#### string indexing"
   ]
  },
  {
   "cell_type": "code",
   "execution_count": 6,
   "metadata": {
    "collapsed": false
   },
   "outputs": [
    {
     "data": {
      "text/plain": [
       "'t'"
      ]
     },
     "execution_count": 6,
     "metadata": {},
     "output_type": "execute_result"
    }
   ],
   "source": [
    "sentence[5]"
   ]
  },
  {
   "cell_type": "code",
   "execution_count": 7,
   "metadata": {
    "collapsed": false
   },
   "outputs": [
    {
     "data": {
      "text/plain": [
       "'eat'"
      ]
     },
     "execution_count": 7,
     "metadata": {},
     "output_type": "execute_result"
    }
   ],
   "source": [
    "sentence[10:13]"
   ]
  },
  {
   "cell_type": "code",
   "execution_count": 8,
   "metadata": {
    "collapsed": false
   },
   "outputs": [
    {
     "data": {
      "text/plain": [
       "'.'"
      ]
     },
     "execution_count": 8,
     "metadata": {},
     "output_type": "execute_result"
    }
   ],
   "source": [
    "sentence[-1]"
   ]
  },
  {
   "cell_type": "code",
   "execution_count": 9,
   "metadata": {
    "collapsed": false
   },
   "outputs": [
    {
     "data": {
      "text/plain": [
       "'eat an appl'"
      ]
     },
     "execution_count": 9,
     "metadata": {},
     "output_type": "execute_result"
    }
   ],
   "source": [
    "sentence[10:-3]"
   ]
  },
  {
   "cell_type": "markdown",
   "metadata": {},
   "source": [
    "#### find sequences in string"
   ]
  },
  {
   "cell_type": "code",
   "execution_count": 12,
   "metadata": {
    "collapsed": false
   },
   "outputs": [
    {
     "data": {
      "text/plain": [
       "-1"
      ]
     },
     "execution_count": 12,
     "metadata": {},
     "output_type": "execute_result"
    }
   ],
   "source": [
    "sentence.find('ttt')"
   ]
  },
  {
   "cell_type": "code",
   "execution_count": null,
   "metadata": {
    "collapsed": true
   },
   "outputs": [],
   "source": []
  },
  {
   "cell_type": "markdown",
   "metadata": {},
   "source": [
    "find from right-hand side"
   ]
  },
  {
   "cell_type": "code",
   "execution_count": 13,
   "metadata": {
    "collapsed": false
   },
   "outputs": [
    {
     "data": {
      "text/plain": [
       "17"
      ]
     },
     "execution_count": 13,
     "metadata": {},
     "output_type": "execute_result"
    }
   ],
   "source": [
    "sentence.rfind('a')"
   ]
  },
  {
   "cell_type": "markdown",
   "metadata": {},
   "source": [
    "find with a starting point"
   ]
  },
  {
   "cell_type": "code",
   "execution_count": 15,
   "metadata": {
    "collapsed": false
   },
   "outputs": [
    {
     "data": {
      "text/plain": [
       "3"
      ]
     },
     "execution_count": 15,
     "metadata": {},
     "output_type": "execute_result"
    }
   ],
   "source": [
    "sentence.find('a')"
   ]
  },
  {
   "cell_type": "markdown",
   "metadata": {},
   "source": [
    "return -1 when not found"
   ]
  },
  {
   "cell_type": "code",
   "execution_count": 18,
   "metadata": {
    "collapsed": false
   },
   "outputs": [
    {
     "data": {
      "text/plain": [
       "-1"
      ]
     },
     "execution_count": 18,
     "metadata": {},
     "output_type": "execute_result"
    }
   ],
   "source": [
    "sentence.find('can')"
   ]
  },
  {
   "cell_type": "markdown",
   "metadata": {},
   "source": [
    "combine the use of subsequence and find"
   ]
  },
  {
   "cell_type": "code",
   "execution_count": 19,
   "metadata": {
    "collapsed": false
   },
   "outputs": [
    {
     "data": {
      "text/plain": [
       "'want to eat an apple '"
      ]
     },
     "execution_count": 19,
     "metadata": {},
     "output_type": "execute_result"
    }
   ],
   "source": [
    "sentence[sentence.find('want to'):sentence.rfind('.')]"
   ]
  },
  {
   "cell_type": "markdown",
   "metadata": {},
   "source": [
    "### String Normalization"
   ]
  },
  {
   "cell_type": "code",
   "execution_count": 20,
   "metadata": {
    "collapsed": false,
    "scrolled": true
   },
   "outputs": [
    {
     "data": {
      "text/plain": [
       "'I want to eat an apple .'"
      ]
     },
     "execution_count": 20,
     "metadata": {},
     "output_type": "execute_result"
    }
   ],
   "source": [
    "sentence"
   ]
  },
  {
   "cell_type": "code",
   "execution_count": 21,
   "metadata": {
    "collapsed": false
   },
   "outputs": [
    {
     "data": {
      "text/plain": [
       "'i want to eat an apple .'"
      ]
     },
     "execution_count": 21,
     "metadata": {},
     "output_type": "execute_result"
    }
   ],
   "source": [
    "sentence.lower()"
   ]
  },
  {
   "cell_type": "code",
   "execution_count": 82,
   "metadata": {
    "collapsed": false
   },
   "outputs": [
    {
     "data": {
      "text/plain": [
       "'I WANT TO EAT AN APPLE .'"
      ]
     },
     "execution_count": 82,
     "metadata": {},
     "output_type": "execute_result"
    }
   ],
   "source": [
    "sentence.upper()"
   ]
  },
  {
   "cell_type": "code",
   "execution_count": 83,
   "metadata": {
    "collapsed": false
   },
   "outputs": [
    {
     "data": {
      "text/plain": [
       "'I want to eat an apple .'"
      ]
     },
     "execution_count": 83,
     "metadata": {},
     "output_type": "execute_result"
    }
   ],
   "source": [
    "sentence.capitalize()"
   ]
  },
  {
   "cell_type": "code",
   "execution_count": 17,
   "metadata": {
    "collapsed": false
   },
   "outputs": [
    {
     "data": {
      "text/plain": [
       "False"
      ]
     },
     "execution_count": 17,
     "metadata": {},
     "output_type": "execute_result"
    }
   ],
   "source": [
    "'Aa'.isupper()"
   ]
  },
  {
   "cell_type": "code",
   "execution_count": 87,
   "metadata": {
    "collapsed": false
   },
   "outputs": [
    {
     "data": {
      "text/plain": [
       "False"
      ]
     },
     "execution_count": 87,
     "metadata": {},
     "output_type": "execute_result"
    }
   ],
   "source": [
    "'A'.islower()"
   ]
  },
  {
   "cell_type": "code",
   "execution_count": 92,
   "metadata": {
    "collapsed": false
   },
   "outputs": [
    {
     "data": {
      "text/plain": [
       "True"
      ]
     },
     "execution_count": 92,
     "metadata": {},
     "output_type": "execute_result"
    }
   ],
   "source": [
    "'apple'.isalpha()"
   ]
  },
  {
   "cell_type": "code",
   "execution_count": 18,
   "metadata": {
    "collapsed": false
   },
   "outputs": [
    {
     "data": {
      "text/plain": [
       "True"
      ]
     },
     "execution_count": 18,
     "metadata": {},
     "output_type": "execute_result"
    }
   ],
   "source": [
    "'20'.isdigit()"
   ]
  },
  {
   "cell_type": "code",
   "execution_count": 94,
   "metadata": {
    "collapsed": false
   },
   "outputs": [
    {
     "data": {
      "text/plain": [
       "False"
      ]
     },
     "execution_count": 94,
     "metadata": {},
     "output_type": "execute_result"
    }
   ],
   "source": [
    "'20.9'.isdigit()"
   ]
  },
  {
   "cell_type": "code",
   "execution_count": 19,
   "metadata": {
    "collapsed": false
   },
   "outputs": [
    {
     "data": {
      "text/plain": [
       "True"
      ]
     },
     "execution_count": 19,
     "metadata": {},
     "output_type": "execute_result"
    }
   ],
   "source": [
    "'20'.isdecimal()"
   ]
  },
  {
   "cell_type": "code",
   "execution_count": 20,
   "metadata": {
    "collapsed": false
   },
   "outputs": [
    {
     "data": {
      "text/plain": [
       "True"
      ]
     },
     "execution_count": 20,
     "metadata": {},
     "output_type": "execute_result"
    }
   ],
   "source": [
    "'furen5566'.isalnum()"
   ]
  },
  {
   "cell_type": "markdown",
   "metadata": {},
   "source": [
    "### split sentence by blank"
   ]
  },
  {
   "cell_type": "code",
   "execution_count": 21,
   "metadata": {
    "collapsed": false
   },
   "outputs": [
    {
     "data": {
      "text/plain": [
       "['I', 'want', 'to', 'eat', 'an', 'apple', '.']"
      ]
     },
     "execution_count": 21,
     "metadata": {},
     "output_type": "execute_result"
    }
   ],
   "source": [
    "# the result is list of words in the sentence\n",
    "sentence.split(' ')"
   ]
  },
  {
   "cell_type": "code",
   "execution_count": 22,
   "metadata": {
    "collapsed": false
   },
   "outputs": [
    {
     "data": {
      "text/plain": [
       "True"
      ]
     },
     "execution_count": 22,
     "metadata": {},
     "output_type": "execute_result"
    }
   ],
   "source": [
    "sentence.endswith('.')"
   ]
  },
  {
   "cell_type": "code",
   "execution_count": 23,
   "metadata": {
    "collapsed": false
   },
   "outputs": [
    {
     "data": {
      "text/plain": [
       "False"
      ]
     },
     "execution_count": 23,
     "metadata": {},
     "output_type": "execute_result"
    }
   ],
   "source": [
    "sentence.startswith('He wants')"
   ]
  },
  {
   "cell_type": "markdown",
   "metadata": {},
   "source": [
    "## Dictionary examples"
   ]
  },
  {
   "cell_type": "code",
   "execution_count": 25,
   "metadata": {
    "collapsed": true
   },
   "outputs": [],
   "source": [
    "# book = dict()\n",
    "book = {}"
   ]
  },
  {
   "cell_type": "code",
   "execution_count": 26,
   "metadata": {
    "collapsed": false
   },
   "outputs": [],
   "source": [
    "book['title'] = 'Natural Language Processing with Python'\n",
    "book['author'] = 'Bird, Klein, and Loper'\n",
    "book['year'] = 2009"
   ]
  },
  {
   "cell_type": "code",
   "execution_count": 33,
   "metadata": {
    "collapsed": true
   },
   "outputs": [],
   "source": [
    "book['author'] = [author.strip(' and') for author in 'Bird, Klein, and Loper'.split(', ')]"
   ]
  },
  {
   "cell_type": "code",
   "execution_count": 38,
   "metadata": {
    "collapsed": false
   },
   "outputs": [],
   "source": [
    "test = []\n",
    "for author in 'Bird, Klein, and Loper'.split(', '):\n",
    "    test.append(author)"
   ]
  },
  {
   "cell_type": "code",
   "execution_count": 39,
   "metadata": {
    "collapsed": false
   },
   "outputs": [
    {
     "data": {
      "text/plain": [
       "['Bird', 'Klein', 'and Loper']"
      ]
     },
     "execution_count": 39,
     "metadata": {},
     "output_type": "execute_result"
    }
   ],
   "source": [
    "test"
   ]
  },
  {
   "cell_type": "code",
   "execution_count": 34,
   "metadata": {
    "collapsed": false
   },
   "outputs": [
    {
     "data": {
      "text/plain": [
       "['Bir', 'Klei', 'Loper']"
      ]
     },
     "execution_count": 34,
     "metadata": {},
     "output_type": "execute_result"
    }
   ],
   "source": [
    "book['author']"
   ]
  },
  {
   "cell_type": "code",
   "execution_count": 27,
   "metadata": {
    "collapsed": false
   },
   "outputs": [
    {
     "data": {
      "text/plain": [
       "{'author': 'Bird, Klein, and Loper',\n",
       " 'title': 'Natural Language Processing with Python',\n",
       " 'year': 2009}"
      ]
     },
     "execution_count": 27,
     "metadata": {},
     "output_type": "execute_result"
    }
   ],
   "source": [
    "book"
   ]
  },
  {
   "cell_type": "code",
   "execution_count": 28,
   "metadata": {
    "collapsed": false
   },
   "outputs": [
    {
     "data": {
      "text/plain": [
       "dict_keys(['title', 'author', 'year'])"
      ]
     },
     "execution_count": 28,
     "metadata": {},
     "output_type": "execute_result"
    }
   ],
   "source": [
    "book.keys()"
   ]
  },
  {
   "cell_type": "code",
   "execution_count": 29,
   "metadata": {
    "collapsed": false
   },
   "outputs": [
    {
     "data": {
      "text/plain": [
       "dict_values(['Natural Language Processing with Python', 'Bird, Klein, and Loper', 2009])"
      ]
     },
     "execution_count": 29,
     "metadata": {},
     "output_type": "execute_result"
    }
   ],
   "source": [
    "book.values()"
   ]
  },
  {
   "cell_type": "code",
   "execution_count": 30,
   "metadata": {
    "collapsed": false
   },
   "outputs": [
    {
     "data": {
      "text/plain": [
       "dict_items([('title', 'Natural Language Processing with Python'), ('author', 'Bird, Klein, and Loper'), ('year', 2009)])"
      ]
     },
     "execution_count": 30,
     "metadata": {},
     "output_type": "execute_result"
    }
   ],
   "source": [
    "book.items()"
   ]
  },
  {
   "cell_type": "markdown",
   "metadata": {},
   "source": [
    "string formatting"
   ]
  },
  {
   "cell_type": "code",
   "execution_count": 28,
   "metadata": {
    "collapsed": false
   },
   "outputs": [
    {
     "data": {
      "text/plain": [
       "'Natural Language Processing with Python is a book written by Bird, Klein, and Loper in 2009'"
      ]
     },
     "execution_count": 28,
     "metadata": {},
     "output_type": "execute_result"
    }
   ],
   "source": [
    "'%s is a book written by %s in %d' % (book['title'], book['author'], book['year'])"
   ]
  },
  {
   "cell_type": "code",
   "execution_count": 108,
   "metadata": {
    "collapsed": false
   },
   "outputs": [
    {
     "data": {
      "text/plain": [
       "'Natural Language Processing with Python is a book written by Bird, Klein, and Loper in 2009'"
      ]
     },
     "execution_count": 108,
     "metadata": {},
     "output_type": "execute_result"
    }
   ],
   "source": [
    "'{0} is a book written by {1} in {2}'.format(book['title'], book['author'], book['year'])"
   ]
  },
  {
   "cell_type": "code",
   "execution_count": 109,
   "metadata": {
    "collapsed": false
   },
   "outputs": [
    {
     "data": {
      "text/plain": [
       "'Natural Language Processing with Python is a book written by Bird, Klein, and Loper in 2009'"
      ]
     },
     "execution_count": 109,
     "metadata": {},
     "output_type": "execute_result"
    }
   ],
   "source": [
    "# advanced formatting\n",
    "'{title} is a book written by {author} in {year}'.format(**book)"
   ]
  },
  {
   "cell_type": "markdown",
   "metadata": {},
   "source": [
    "## Counting Example"
   ]
  },
  {
   "cell_type": "code",
   "execution_count": 40,
   "metadata": {
    "collapsed": true
   },
   "outputs": [],
   "source": [
    "data = ['red', 'red', 'red', 'red', 'yellow', 'yellow', 'yellow', 'blue', 'blue']"
   ]
  },
  {
   "cell_type": "code",
   "execution_count": 43,
   "metadata": {
    "collapsed": false
   },
   "outputs": [],
   "source": [
    "counter = {}\n",
    "for color in data:\n",
    "    if color in counter:\n",
    "        counter[color] += 1\n",
    "    else:\n",
    "        counter[color] = 1"
   ]
  },
  {
   "cell_type": "code",
   "execution_count": 44,
   "metadata": {
    "collapsed": false
   },
   "outputs": [
    {
     "data": {
      "text/plain": [
       "{'blue': 2, 'red': 4, 'yellow': 3}"
      ]
     },
     "execution_count": 44,
     "metadata": {},
     "output_type": "execute_result"
    }
   ],
   "source": [
    "counter"
   ]
  },
  {
   "cell_type": "markdown",
   "metadata": {},
   "source": [
    "### use default dictionary"
   ]
  },
  {
   "cell_type": "code",
   "execution_count": 45,
   "metadata": {
    "collapsed": false
   },
   "outputs": [],
   "source": [
    "from collections import defaultdict\n",
    "counter = defaultdict(lambda: 0)  # default value function is 0\n",
    "counter = defaultdict(int)  # default value function is \"int\", which initialize to 0"
   ]
  },
  {
   "cell_type": "code",
   "execution_count": 46,
   "metadata": {
    "collapsed": false
   },
   "outputs": [],
   "source": [
    "for color in data:\n",
    "    counter[color] += 1"
   ]
  },
  {
   "cell_type": "code",
   "execution_count": 47,
   "metadata": {
    "collapsed": false
   },
   "outputs": [
    {
     "data": {
      "text/plain": [
       "defaultdict(int, {'blue': 2, 'red': 4, 'yellow': 3})"
      ]
     },
     "execution_count": 47,
     "metadata": {},
     "output_type": "execute_result"
    }
   ],
   "source": [
    "counter"
   ]
  },
  {
   "cell_type": "markdown",
   "metadata": {},
   "source": [
    "### use built-in Counter"
   ]
  },
  {
   "cell_type": "code",
   "execution_count": 49,
   "metadata": {
    "collapsed": true
   },
   "outputs": [],
   "source": [
    "from collections import Counter"
   ]
  },
  {
   "cell_type": "code",
   "execution_count": 50,
   "metadata": {
    "collapsed": false
   },
   "outputs": [],
   "source": [
    "counter = Counter(data)"
   ]
  },
  {
   "cell_type": "code",
   "execution_count": 51,
   "metadata": {
    "collapsed": false
   },
   "outputs": [
    {
     "data": {
      "text/plain": [
       "Counter({'blue': 2, 'red': 4, 'yellow': 3})"
      ]
     },
     "execution_count": 51,
     "metadata": {},
     "output_type": "execute_result"
    }
   ],
   "source": [
    "counter"
   ]
  },
  {
   "cell_type": "code",
   "execution_count": 52,
   "metadata": {
    "collapsed": true
   },
   "outputs": [],
   "source": [
    "new_data = ['blue', 'red', 'blue', 'yellow', 'blue', 'yellow', 'blue', 'yellow', 'blue']\n",
    "counter.update(new_data)"
   ]
  },
  {
   "cell_type": "code",
   "execution_count": 53,
   "metadata": {
    "collapsed": false
   },
   "outputs": [
    {
     "data": {
      "text/plain": [
       "Counter({'blue': 7, 'red': 5, 'yellow': 6})"
      ]
     },
     "execution_count": 53,
     "metadata": {},
     "output_type": "execute_result"
    }
   ],
   "source": [
    "counter"
   ]
  },
  {
   "cell_type": "markdown",
   "metadata": {},
   "source": [
    "#### most common elements"
   ]
  },
  {
   "cell_type": "code",
   "execution_count": 54,
   "metadata": {
    "collapsed": false
   },
   "outputs": [
    {
     "data": {
      "text/plain": [
       "[('blue', 7), ('yellow', 6), ('red', 5)]"
      ]
     },
     "execution_count": 54,
     "metadata": {},
     "output_type": "execute_result"
    }
   ],
   "source": [
    "counter.most_common()"
   ]
  },
  {
   "cell_type": "code",
   "execution_count": 55,
   "metadata": {
    "collapsed": false
   },
   "outputs": [
    {
     "data": {
      "text/plain": [
       "[('blue', 7), ('yellow', 6)]"
      ]
     },
     "execution_count": 55,
     "metadata": {},
     "output_type": "execute_result"
    }
   ],
   "source": [
    "counter.most_common(2)"
   ]
  },
  {
   "cell_type": "code",
   "execution_count": 56,
   "metadata": {
    "collapsed": false
   },
   "outputs": [
    {
     "name": "stdout",
     "output_type": "stream",
     "text": [
      "blue: 7\n",
      "yellow: 6\n",
      "red: 5\n"
     ]
    }
   ],
   "source": [
    "for color, count in counter.most_common():\n",
    "    print('{0}: {1}'.format(color, count))"
   ]
  },
  {
   "cell_type": "code",
   "execution_count": 57,
   "metadata": {
    "collapsed": false
   },
   "outputs": [
    {
     "name": "stdout",
     "output_type": "stream",
     "text": [
      "0\n"
     ]
    }
   ],
   "source": [
    "# clear counter\n",
    "counter.clear()\n",
    "print(counter['blue'])"
   ]
  },
  {
   "cell_type": "markdown",
   "metadata": {},
   "source": [
    "# Exercise"
   ]
  },
  {
   "cell_type": "markdown",
   "metadata": {},
   "source": [
    "compute the word frequencies in \"Building_Global_Community.txt\"\n",
    "- read sentences from file \"Building_Global_Community.txt\"\n",
    "- split sentences into words (split, or nltk word_tokenize)\n",
    "- filter out symbols (isalpha, isdigit, isalnum)\n",
    "- normalize words and count ('Word' and 'word' are considered as the same word)\n",
    "- count the occurance of words (counting exmaple)"
   ]
  },
  {
   "cell_type": "markdown",
   "metadata": {},
   "source": [
    "write your code here"
   ]
  },
  {
   "cell_type": "code",
   "execution_count": 1,
   "metadata": {
    "collapsed": false
   },
   "outputs": [
    {
     "name": "stdout",
     "output_type": "stream",
     "text": [
      "[nltk_data] Downloading package stopwords to\n",
      "[nltk_data]     C:\\Users\\tsunh\\AppData\\Roaming\\nltk_data...\n",
      "[nltk_data]   Package stopwords is already up-to-date!\n",
      "[('community', 80), ('people', 62), ('us', 38), ('world', 36), ('social', 31), ('help', 26), ('communities', 25), ('global', 24), ('facebook', 24), ('infrastructure', 24), ('content', 23), ('groups', 23), ('many', 22), ('share', 20), ('like', 19), ('important', 19), ('building', 19), ('around', 18), ('together', 18), ('build', 16)]\n"
     ]
    }
   ],
   "source": [
    "# write your code here\n",
    "import nltk\n",
    "from nltk.corpus import stopwords\n",
    "text = open('building_global_community.txt').read()\n",
    "words = nltk.tokenize.word_tokenize(text)\n",
    "# filter out symbols\n",
    "words = [word for word in words if word.isalpha()]\n",
    "\n",
    "# normalize words and count\n",
    "words = [word.lower() for word in words]\n",
    "\n",
    "#filter out the stop word\n",
    "nltk.download('stopwords')\n",
    "stopwords = set(stopwords.words('english'))\n",
    "words = [word for word in words if word not in stopwords]\n",
    "\n",
    "#count the occurance of words\n",
    "wordCounter = nltk.FreqDist(words)\n",
    "\n",
    "print wordCounter.most_common(20)"
   ]
  },
  {
   "cell_type": "markdown",
   "metadata": {
    "collapsed": true
   },
   "source": [
    "### Save the result into a csv file"
   ]
  },
  {
   "cell_type": "markdown",
   "metadata": {},
   "source": [
    "https://docs.python.org/3/library/csv.html"
   ]
  },
  {
   "cell_type": "code",
   "execution_count": 2,
   "metadata": {
    "collapsed": true
   },
   "outputs": [],
   "source": [
    "import csv"
   ]
  },
  {
   "cell_type": "markdown",
   "metadata": {},
   "source": [
    "write word count result"
   ]
  },
  {
   "cell_type": "code",
   "execution_count": 3,
   "metadata": {
    "collapsed": true
   },
   "outputs": [],
   "source": [
    "with open('wordcount.csv', 'w') as csvfile:\n",
    "    # set up header\n",
    "    fieldnames = ['word', 'count']\n",
    "    writer = csv.DictWriter(csvfile, fieldnames=fieldnames)\n",
    "\n",
    "    writer.writeheader()\n",
    "    for word, count in wordCounter.most_common():\n",
    "        writer.writerow({'word': word, 'count': count})"
   ]
  },
  {
   "cell_type": "markdown",
   "metadata": {
    "collapsed": true
   },
   "source": [
    "read csv"
   ]
  },
  {
   "cell_type": "code",
   "execution_count": 4,
   "metadata": {
    "collapsed": false
   },
   "outputs": [
    {
     "name": "stdout",
     "output_type": "stream",
     "text": [
      "('community', '80')\n",
      "('people', '62')\n",
      "('us', '38')\n",
      "('world', '36')\n",
      "('social', '31')\n",
      "('help', '26')\n",
      "('communities', '25')\n",
      "('global', '24')\n",
      "('facebook', '24')\n",
      "('infrastructure', '24')\n",
      "('content', '23')\n",
      "('groups', '23')\n",
      "('many', '22')\n",
      "('share', '20')\n",
      "('like', '19')\n",
      "('important', '19')\n",
      "('building', '19')\n",
      "('around', '18')\n",
      "('together', '18')\n",
      "('build', '16')\n",
      "('new', '16')\n",
      "('friends', '15')\n",
      "('even', '14')\n",
      "('want', '14')\n",
      "('must', '13')\n",
      "('local', '13')\n",
      "('across', '13')\n",
      "('safe', '12')\n",
      "('need', '12')\n",
      "('news', '12')\n",
      "('issues', '11')\n",
      "('work', '11')\n",
      "('standards', '11')\n",
      "('see', '11')\n",
      "('tools', '10')\n",
      "('today', '10')\n",
      "('media', '10')\n",
      "('personal', '10')\n",
      "('connect', '10')\n",
      "('one', '10')\n",
      "('built', '10')\n",
      "('common', '10')\n",
      "('come', '10')\n",
      "('hope', '9')\n",
      "('also', '9')\n",
      "('part', '9')\n",
      "('well', '9')\n",
      "('understanding', '8')\n",
      "('example', '8')\n",
      "('information', '8')\n",
      "('may', '8')\n",
      "('every', '8')\n",
      "('civic', '8')\n",
      "('always', '8')\n",
      "('greatest', '8')\n",
      "('different', '8')\n",
      "('opportunity', '8')\n",
      "('whether', '8')\n",
      "('time', '8')\n",
      "('system', '7')\n",
      "('past', '7')\n",
      "('positive', '7')\n",
      "('two', '7')\n",
      "('make', '7')\n",
      "('years', '7')\n",
      "('group', '7')\n",
      "('society', '7')\n",
      "('safety', '7')\n",
      "('engagement', '7')\n",
      "('online', '7')\n",
      "('take', '7')\n",
      "('cultural', '7')\n",
      "('collective', '7')\n",
      "('perspectives', '7')\n",
      "('support', '7')\n",
      "('existing', '6')\n",
      "('experience', '6')\n",
      "('values', '6')\n",
      "('give', '6')\n",
      "('reflect', '6')\n",
      "('meaningful', '6')\n",
      "('harm', '6')\n",
      "('year', '6')\n",
      "('could', '6')\n",
      "('way', '6')\n",
      "('norms', '6')\n",
      "('strengthen', '6')\n",
      "('seen', '6')\n",
      "('ideas', '6')\n",
      "('worldwide', '6')\n",
      "('find', '6')\n",
      "('impact', '6')\n",
      "('representatives', '6')\n",
      "('reading', '6')\n",
      "('taking', '6')\n",
      "('informed', '6')\n",
      "('largest', '6')\n",
      "('often', '6')\n",
      "('connecting', '6')\n",
      "('sensationalism', '6')\n",
      "('physical', '6')\n",
      "('helps', '5')\n",
      "('ever', '5')\n",
      "('use', '5')\n",
      "('governance', '5')\n",
      "('process', '5')\n",
      "('taken', '5')\n",
      "('keeping', '5')\n",
      "('something', '5')\n",
      "('keep', '5')\n",
      "('needs', '5')\n",
      "('improving', '5')\n",
      "('better', '5')\n",
      "('everyone', '5')\n",
      "('related', '5')\n",
      "('since', '5')\n",
      "('millions', '5')\n",
      "('nudity', '5')\n",
      "('objectionable', '5')\n",
      "('sometimes', '5')\n",
      "('voting', '5')\n",
      "('show', '5')\n",
      "('going', '5')\n",
      "('progress', '5')\n",
      "('cities', '5')\n",
      "('vote', '5')\n",
      "('would', '5')\n",
      "('create', '5')\n",
      "('quickly', '5')\n",
      "('voice', '5')\n",
      "('things', '5')\n",
      "('discourse', '5')\n",
      "('identify', '5')\n",
      "('questions', '5')\n",
      "('know', '5')\n",
      "('right', '5')\n",
      "('range', '5')\n",
      "('forward', '5')\n",
      "('made', '5')\n",
      "('videos', '5')\n",
      "('ai', '5')\n",
      "('diversity', '5')\n",
      "('power', '5')\n",
      "('focus', '4')\n",
      "('tv', '4')\n",
      "('crises', '4')\n",
      "('bringing', '4')\n",
      "('governments', '4')\n",
      "('misinformation', '4')\n",
      "('large', '4')\n",
      "('team', '4')\n",
      "('leaders', '4')\n",
      "('giving', '4')\n",
      "('public', '4')\n",
      "('others', '4')\n",
      "('alone', '4')\n",
      "('suggests', '4')\n",
      "('crisis', '4')\n",
      "('sports', '4')\n",
      "('organizations', '4')\n",
      "('history', '4')\n",
      "('already', '4')\n",
      "('greater', '4')\n",
      "('effects', '4')\n",
      "('idea', '4')\n",
      "('research', '4')\n",
      "('million', '4')\n",
      "('story', '4')\n",
      "('messages', '4')\n",
      "('times', '4')\n",
      "('nations', '4')\n",
      "('polarization', '4')\n",
      "('bring', '4')\n",
      "('participate', '4')\n",
      "('based', '4')\n",
      "('countries', '4')\n",
      "('approach', '4')\n",
      "('review', '4')\n",
      "('recently', '4')\n",
      "('afterwards', '4')\n",
      "('families', '4')\n",
      "('lives', '4')\n",
      "('look', '4')\n",
      "('developing', '4')\n",
      "('might', '4')\n",
      "('good', '4')\n",
      "('technology', '4')\n",
      "('speech', '4')\n",
      "('terrorism', '4')\n",
      "('person', '4')\n",
      "('without', '4')\n",
      "('opinions', '4')\n",
      "('less', '4')\n",
      "('humanity', '4')\n",
      "('real', '4')\n",
      "('possible', '4')\n",
      "('towards', '4')\n",
      "('examples', '4')\n",
      "('scale', '4')\n",
      "('participation', '4')\n",
      "('become', '4')\n",
      "('favorite', '4')\n",
      "('rebuild', '4')\n",
      "('political', '4')\n",
      "('fabric', '4')\n",
      "('long', '4')\n",
      "('cultures', '4')\n",
      "('billion', '4')\n",
      "('best', '4')\n",
      "('violence', '4')\n",
      "('check', '4')\n",
      "('problems', '4')\n",
      "('helping', '4')\n",
      "('number', '3')\n",
      "('health', '3')\n",
      "('little', '3')\n",
      "('shows', '3')\n",
      "('prevent', '3')\n",
      "('sign', '3')\n",
      "('video', '3')\n",
      "('told', '3')\n",
      "('relationships', '3')\n",
      "('explore', '3')\n",
      "('ahead', '3')\n",
      "('usually', '3')\n",
      "('named', '3')\n",
      "('family', '3')\n",
      "('accuracy', '3')\n",
      "('started', '3')\n",
      "('cases', '3')\n",
      "('dedicated', '3')\n",
      "('sense', '3')\n",
      "('provide', '3')\n",
      "('instead', '3')\n",
      "('including', '3')\n",
      "('systems', '3')\n",
      "('emphasize', '3')\n",
      "('someone', '3')\n",
      "('views', '3')\n",
      "('processes', '3')\n",
      "('war', '3')\n",
      "('challenges', '3')\n",
      "('bad', '3')\n",
      "('members', '3')\n",
      "('think', '3')\n",
      "('first', '3')\n",
      "('errors', '3')\n",
      "('similarly', '3')\n",
      "('anyone', '3')\n",
      "('reflecting', '3')\n",
      "('believe', '3')\n",
      "('population', '3')\n",
      "('last', '3')\n",
      "('able', '3')\n",
      "('connected', '3')\n",
      "('plan', '3')\n",
      "('democratic', '3')\n",
      "('clear', '3')\n",
      "('disease', '3')\n",
      "('controls', '3')\n",
      "('set', '3')\n",
      "('connections', '3')\n",
      "('still', '3')\n",
      "('ways', '3')\n",
      "('shared', '3')\n",
      "('reported', '3')\n",
      "('connection', '3')\n",
      "('child', '3')\n",
      "('country', '3')\n",
      "('almost', '3')\n",
      "('engaged', '3')\n",
      "('development', '3')\n",
      "('purpose', '3')\n",
      "('photo', '3')\n",
      "('mistakes', '3')\n",
      "('majority', '3')\n",
      "('day', '3')\n",
      "('whatsapp', '3')\n",
      "('sensational', '3')\n",
      "('works', '3')\n",
      "('supportive', '3')\n",
      "('step', '3')\n",
      "('citizens', '3')\n",
      "('next', '3')\n",
      "('medium', '3')\n",
      "('becoming', '3')\n",
      "('stories', '3')\n",
      "('strengthening', '3')\n",
      "('inclusive', '3')\n",
      "('contribute', '3')\n",
      "('single', '3')\n",
      "('understand', '3')\n",
      "('requires', '3')\n",
      "('activated', '2')\n",
      "('helped', '2')\n",
      "('hate', '2')\n",
      "('protest', '2')\n",
      "('encourage', '2')\n",
      "('opportunities', '2')\n",
      "('terror', '2')\n",
      "('resources', '2')\n",
      "('affect', '2')\n",
      "('vast', '2')\n",
      "('guiding', '2')\n",
      "('spiritual', '2')\n",
      "('smaller', '2')\n",
      "('refugee', '2')\n",
      "('direct', '2')\n",
      "('likely', '2')\n",
      "('saw', '2')\n",
      "('networks', '2')\n",
      "('current', '2')\n",
      "('learned', '2')\n",
      "('increasing', '2')\n",
      "('evolving', '2')\n",
      "('empower', '2')\n",
      "('lack', '2')\n",
      "('path', '2')\n",
      "('strong', '2')\n",
      "('change', '2')\n",
      "('healthy', '2')\n",
      "('larger', '2')\n",
      "('extremes', '2')\n",
      "('diagnosed', '2')\n",
      "('options', '2')\n",
      "('uniquely', '2')\n",
      "('live', '2')\n",
      "('call', '2')\n",
      "('tell', '2')\n",
      "('hold', '2')\n",
      "('effort', '2')\n",
      "('graphic', '2')\n",
      "('meet', '2')\n",
      "('control', '2')\n",
      "('pieces', '2')\n",
      "('states', '2')\n",
      "('united', '2')\n",
      "('goal', '2')\n",
      "('get', '2')\n",
      "('hoaxes', '2')\n",
      "('okay', '2')\n",
      "('capture', '2')\n",
      "('membership', '2')\n",
      "('coming', '2')\n",
      "('grow', '2')\n",
      "('man', '2')\n",
      "('natural', '2')\n",
      "('register', '2')\n",
      "('complexity', '2')\n",
      "('responsibility', '2')\n",
      "('allow', '2')\n",
      "('sexually', '2')\n",
      "('course', '2')\n",
      "('committed', '2')\n",
      "('actually', '2')\n",
      "('easier', '2')\n",
      "('nation', '2')\n",
      "('half', '2')\n",
      "('discuss', '2')\n",
      "('bigger', '2')\n",
      "('term', '2')\n",
      "('settings', '2')\n",
      "('establishing', '2')\n",
      "('positioned', '2')\n",
      "('beyond', '2')\n",
      "('disasters', '2')\n",
      "('network', '2')\n",
      "('looking', '2')\n",
      "('seriously', '2')\n",
      "('adapt', '2')\n",
      "('internet', '2')\n",
      "('offline', '2')\n",
      "('free', '2')\n",
      "('completely', '2')\n",
      "('care', '2')\n",
      "('enough', '2')\n",
      "('major', '2')\n",
      "('striking', '2')\n",
      "('feel', '2')\n",
      "('done', '2')\n",
      "('fight', '2')\n",
      "('least', '2')\n",
      "('interests', '2')\n",
      "('polarized', '2')\n",
      "('jobs', '2')\n",
      "('require', '2')\n",
      "('matter', '2')\n",
      "('historical', '2')\n",
      "('mitigating', '2')\n",
      "('india', '2')\n",
      "('measure', '2')\n",
      "('voices', '2')\n",
      "('sure', '2')\n",
      "('reach', '2')\n",
      "('services', '2')\n",
      "('mitigate', '2')\n",
      "('industry', '2')\n",
      "('traditional', '2')\n",
      "('occasion', '2')\n",
      "('institutions', '2')\n",
      "('joining', '2')\n",
      "('let', '2')\n",
      "('black', '2')\n",
      "('overall', '2')\n",
      "('areas', '2')\n",
      "('teams', '2')\n",
      "('experiences', '2')\n",
      "('refugees', '2')\n",
      "('disaster', '2')\n",
      "('intelligence', '2')\n",
      "('national', '2')\n",
      "('reinforce', '2')\n",
      "('ability', '2')\n",
      "('threats', '2')\n",
      "('artificial', '2')\n",
      "('rebuilds', '2')\n",
      "('anew', '2')\n",
      "('responses', '2')\n",
      "('however', '2')\n",
      "('newsworthy', '2')\n",
      "('declining', '2')\n",
      "('improve', '2')\n",
      "('climate', '2')\n",
      "('enabling', '2')\n",
      "('focused', '2')\n",
      "('whole', '2')\n",
      "('among', '2')\n",
      "('point', '2')\n",
      "('decline', '2')\n",
      "('second', '2')\n",
      "('encryption', '2')\n",
      "('increase', '2')\n",
      "('much', '2')\n",
      "('enable', '2')\n",
      "('whatever', '2')\n",
      "('engage', '2')\n",
      "('elections', '2')\n",
      "('region', '2')\n",
      "('eventually', '2')\n",
      "('worry', '2')\n",
      "('movements', '2')\n",
      "('terrorist', '2')\n",
      "('develop', '2')\n",
      "('began', '2')\n",
      "('reminded', '2')\n",
      "('events', '2')\n",
      "('evolve', '2')\n",
      "('levels', '2')\n",
      "('opinion', '2')\n",
      "('fighting', '2')\n",
      "('directly', '2')\n",
      "('solve', '2')\n",
      "('organization', '2')\n",
      "('left', '2')\n",
      "('starting', '2')\n",
      "('violent', '2')\n",
      "('spread', '2')\n",
      "('parents', '2')\n",
      "('save', '2')\n",
      "('showing', '2')\n",
      "('necessary', '2')\n",
      "('fully', '2')\n",
      "('tribes', '2')\n",
      "('making', '2')\n",
      "('exposes', '2')\n",
      "('complete', '2')\n",
      "('comments', '2')\n",
      "('continue', '2')\n",
      "('provides', '2')\n",
      "('steps', '2')\n",
      "('business', '2')\n",
      "('update', '2')\n",
      "('viewpoints', '2')\n",
      "('although', '2')\n",
      "('post', '2')\n",
      "('getting', '2')\n",
      "('ideological', '2')\n",
      "('commit', '2')\n",
      "('communication', '2')\n",
      "('within', '2')\n",
      "('billions', '2')\n",
      "('depicting', '2')\n",
      "('accountability', '2')\n",
      "('start', '2')\n",
      "('lot', '2')\n",
      "('form', '2')\n",
      "('spam', '2')\n",
      "('line', '2')\n",
      "('raising', '2')\n",
      "('never', '2')\n",
      "('prevents', '2')\n",
      "('historically', '2')\n",
      "('emotional', '2')\n",
      "('similar', '2')\n",
      "('election', '2')\n",
      "('dialogue', '2')\n",
      "('diverse', '2')\n",
      "('daily', '2')\n",
      "('compared', '2')\n",
      "('event', '2')\n",
      "('shelter', '2')\n",
      "('monis', '2')\n",
      "('shown', '2')\n",
      "('journey', '2')\n",
      "('suited', '2')\n",
      "('happening', '2')\n",
      "('using', '2')\n",
      "('photos', '2')\n",
      "('limited', '1')\n",
      "('nepal', '1')\n",
      "('modi', '1')\n",
      "('reviewers', '1')\n",
      "('mark', '1')\n",
      "('controversial', '1')\n",
      "('go', '1')\n",
      "('amplified', '1')\n",
      "('children', '1')\n",
      "('marching', '1')\n",
      "('layers', '1')\n",
      "('suicide', '1')\n",
      "('religion', '1')\n",
      "('segments', '1')\n",
      "('parliament', '1')\n",
      "('environment', '1')\n",
      "('finally', '1')\n",
      "('critical', '1')\n",
      "('promoting', '1')\n",
      "('women', '1')\n",
      "('dramatically', '1')\n",
      "('activities', '1')\n",
      "('woman', '1')\n",
      "('sitting', '1')\n",
      "('continues', '1')\n",
      "('connects', '1')\n",
      "('emergencies', '1')\n",
      "('sons', '1')\n",
      "('updates', '1')\n",
      "('decide', '1')\n",
      "('govern', '1')\n",
      "('resonant', '1')\n",
      "('bubbles', '1')\n",
      "('newly', '1')\n",
      "('entire', '1')\n",
      "('school', '1')\n",
      "('percent', '1')\n",
      "('level', '1')\n",
      "('uncovering', '1')\n",
      "('positions', '1')\n",
      "('posts', '1')\n",
      "('thoughtful', '1')\n",
      "('correct', '1')\n",
      "('item', '1')\n",
      "('relief', '1')\n",
      "('small', '1')\n",
      "('ups', '1')\n",
      "('added', '1')\n",
      "('force', '1')\n",
      "('ten', '1')\n",
      "('trend', '1')\n",
      "('consistent', '1')\n",
      "('pulse', '1')\n",
      "('perspective', '1')\n",
      "('pass', '1')\n",
      "('eligible', '1')\n",
      "('click', '1')\n",
      "('spouses', '1')\n",
      "('checkers', '1')\n",
      "('stands', '1')\n",
      "('jokes', '1')\n",
      "('selected', '1')\n",
      "('liberty', '1')\n",
      "('causes', '1')\n",
      "('goes', '1')\n",
      "('everything', '1')\n",
      "('churches', '1')\n",
      "('focuses', '1')\n",
      "('led', '1')\n",
      "('editorial', '1')\n",
      "('months', '1')\n",
      "('men', '1')\n",
      "('answers', '1')\n",
      "('met', '1')\n",
      "('voter', '1')\n",
      "('poverty', '1')\n",
      "('governing', '1')\n",
      "('feasible', '1')\n",
      "('directions', '1')\n",
      "('earthquake', '1')\n",
      "('suggest', '1')\n",
      "('settling', '1')\n",
      "('design', '1')\n",
      "('kids', '1')\n",
      "('messaging', '1')\n",
      "('remarks', '1')\n",
      "('withdrawing', '1')\n",
      "('reason', '1')\n",
      "('leaving', '1')\n",
      "('amount', '1')\n",
      "('products', '1')\n",
      "('military', '1')\n",
      "('involves', '1')\n",
      "('ago', '1')\n",
      "('spent', '1')\n",
      "('juries', '1')\n",
      "('classrooms', '1')\n",
      "('increased', '1')\n",
      "('moral', '1')\n",
      "('send', '1')\n",
      "('suicides', '1')\n",
      "('operational', '1')\n",
      "('market', '1')\n",
      "('criticizing', '1')\n",
      "('working', '1')\n",
      "('distinct', '1')\n",
      "('century', '1')\n",
      "('doubt', '1')\n",
      "('outright', '1')\n",
      "('means', '1')\n",
      "('sharing', '1')\n",
      "('suggestions', '1')\n",
      "('company', '1')\n",
      "('wars', '1')\n",
      "('aware', '1')\n",
      "('realized', '1')\n",
      "('berlin', '1')\n",
      "('surface', '1')\n",
      "('charged', '1')\n",
      "('actual', '1')\n",
      "('worst', '1')\n",
      "('join', '1')\n",
      "('debates', '1')\n",
      "('science', '1')\n",
      "('worth', '1')\n",
      "('reviews', '1')\n",
      "('suggestive', '1')\n",
      "('growing', '1')\n",
      "('epidermolysis', '1')\n",
      "('streamed', '1')\n",
      "('pushes', '1')\n",
      "('fragment', '1')\n",
      "('discussed', '1')\n",
      "('allowed', '1')\n",
      "('tag', '1')\n",
      "('spanning', '1')\n",
      "('democracy', '1')\n",
      "('turn', '1')\n",
      "('discussion', '1')\n",
      "('comfort', '1')\n",
      "('moves', '1')\n",
      "('regions', '1')\n",
      "('globalization', '1')\n",
      "('vital', '1')\n",
      "('personally', '1')\n",
      "('simplicity', '1')\n",
      "('staying', '1')\n",
      "('rise', '1')\n",
      "('marked', '1')\n",
      "('advice', '1')\n",
      "('philosophy', '1')\n",
      "('spot', '1')\n",
      "('blood', '1')\n",
      "('president', '1')\n",
      "('lifting', '1')\n",
      "('dorms', '1')\n",
      "('effective', '1')\n",
      "('read', '1')\n",
      "('wins', '1')\n",
      "('explicit', '1')\n",
      "('anytime', '1')\n",
      "('dinners', '1')\n",
      "('advocates', '1')\n",
      "('block', '1')\n",
      "('mentorship', '1')\n",
      "('talk', '1')\n",
      "('origin', '1')\n",
      "('serving', '1')\n",
      "('institutional', '1')\n",
      "('developed', '1')\n",
      "('researching', '1')\n",
      "('suffer', '1')\n",
      "('boosts', '1')\n",
      "('difference', '1')\n",
      "('thank', '1')\n",
      "('fit', '1')\n",
      "('beliefs', '1')\n",
      "('expectations', '1')\n",
      "('grandmother', '1')\n",
      "('policy', '1')\n",
      "('coordinated', '1')\n",
      "('decades', '1')\n",
      "('donors', '1')\n",
      "('hurting', '1')\n",
      "('affected', '1')\n",
      "('food', '1')\n",
      "('conversations', '1')\n",
      "('sooner', '1')\n",
      "('scaling', '1')\n",
      "('cutting', '1')\n",
      "('suffering', '1')\n",
      "('terrible', '1')\n",
      "('notified', '1')\n",
      "('backgrounds', '1')\n",
      "('extremely', '1')\n",
      "('truth', '1')\n",
      "('found', '1')\n",
      "('organized', '1')\n",
      "('european', '1')\n",
      "('mean', '1')\n",
      "('discourages', '1')\n",
      "('mental', '1')\n",
      "('companies', '1')\n",
      "('energy', '1')\n",
      "('police', '1')\n",
      "('increases', '1')\n",
      "('happen', '1')\n",
      "('try', '1')\n",
      "('matt', '1')\n",
      "('reducing', '1')\n",
      "('entertainment', '1')\n",
      "('culture', '1')\n",
      "('open', '1')\n",
      "('unrelated', '1')\n",
      "('banning', '1')\n",
      "('got', '1')\n",
      "('occurs', '1')\n",
      "('registries', '1')\n",
      "('foundation', '1')\n",
      "('creating', '1')\n",
      "('disagree', '1')\n",
      "('campaigns', '1')\n",
      "('difficulty', '1')\n",
      "('dig', '1')\n",
      "('unwanted', '1')\n",
      "('imagine', '1')\n",
      "('ask', '1')\n",
      "('turnout', '1')\n",
      "('agree', '1')\n",
      "('starts', '1')\n",
      "('area', '1')\n",
      "('wrong', '1')\n",
      "('filter', '1')\n",
      "('thing', '1')\n",
      "('american', '1')\n",
      "('place', '1')\n",
      "('generations', '1')\n",
      "('existential', '1')\n",
      "('receding', '1')\n",
      "('feed', '1')\n",
      "('organize', '1')\n",
      "('third', '1')\n",
      "('powerful', '1')\n",
      "('primary', '1')\n",
      "('fits', '1')\n",
      "('another', '1')\n",
      "('gatherings', '1')\n",
      "('impossible', '1')\n",
      "('quality', '1')\n",
      "('surveys', '1')\n",
      "('tahrir', '1')\n",
      "('leading', '1')\n",
      "('interact', '1')\n",
      "('oversimplifies', '1')\n",
      "('needed', '1')\n",
      "('attack', '1')\n",
      "('tragic', '1')\n",
      "('types', '1')\n",
      "('tea', '1')\n",
      "('oversimplified', '1')\n",
      "('recent', '1')\n",
      "('structures', '1')\n",
      "('speaking', '1')\n",
      "('rewards', '1')\n",
      "('month', '1')\n",
      "('villages', '1')\n",
      "('debate', '1')\n",
      "('accurately', '1')\n",
      "('demonstrations', '1')\n",
      "('eliminated', '1')\n",
      "('roles', '1')\n",
      "('elected', '1')\n",
      "('isolation', '1')\n",
      "('recruit', '1')\n",
      "('project', '1')\n",
      "('patients', '1')\n",
      "('future', '1')\n",
      "('risks', '1')\n",
      "('divisiveness', '1')\n",
      "('san', '1')\n",
      "('shifting', '1')\n",
      "('topics', '1')\n",
      "('alongside', '1')\n",
      "('spectrum', '1')\n",
      "('given', '1')\n",
      "('alerted', '1')\n",
      "('spans', '1')\n",
      "('pandemics', '1')\n",
      "('disturbing', '1')\n",
      "('recover', '1')\n",
      "('seek', '1')\n",
      "('relatively', '1')\n",
      "('prosperity', '1')\n",
      "('laws', '1')\n",
      "('answering', '1')\n",
      "('high', '1')\n",
      "('concerns', '1')\n",
      "('surfacing', '1')\n",
      "('finding', '1')\n",
      "('europeans', '1')\n",
      "('play', '1')\n",
      "('multiple', '1')\n",
      "('advances', '1')\n",
      "('opposite', '1')\n",
      "('iceland', '1')\n",
      "('enter', '1')\n",
      "('organizes', '1')\n",
      "('parenting', '1')\n",
      "('virus', '1')\n",
      "('impacting', '1')\n",
      "('honor', '1')\n",
      "('position', '1')\n",
      "('accepting', '1')\n",
      "('contain', '1')\n",
      "('transcending', '1')\n",
      "('pages', '1')\n",
      "('especially', '1')\n",
      "('surprising', '1')\n",
      "('mobile', '1')\n",
      "('playing', '1')\n",
      "('tech', '1')\n",
      "('principle', '1')\n",
      "('fact', '1')\n",
      "('saying', '1')\n",
      "('text', '1')\n",
      "('meetings', '1')\n",
      "('ending', '1')\n",
      "('bright', '1')\n",
      "('solutions', '1')\n",
      "('carefully', '1')\n",
      "('headlines', '1')\n",
      "('california', '1')\n",
      "('decade', '1')\n",
      "('feedback', '1')\n",
      "('access', '1')\n",
      "('stormy', '1')\n",
      "('favor', '1')\n",
      "('headline', '1')\n",
      "('guidance', '1')\n",
      "('americans', '1')\n",
      "('unions', '1')\n",
      "('crime', '1')\n",
      "('moments', '1')\n",
      "('minimize', '1')\n",
      "('satire', '1')\n",
      "('amplify', '1')\n",
      "('achieve', '1')\n",
      "('dispute', '1')\n",
      "('bother', '1')\n",
      "('policies', '1')\n",
      "('watching', '1')\n",
      "('broader', '1')\n",
      "('account', '1')\n",
      "('mission', '1')\n",
      "('ones', '1')\n",
      "('framing', '1')\n",
      "('net', '1')\n",
      "('prime', '1')\n",
      "('following', '1')\n",
      "('runs', '1')\n",
      "('organ', '1')\n",
      "('remove', '1')\n",
      "('aspects', '1')\n",
      "('privacy', '1')\n",
      "('admins', '1')\n",
      "('fault', '1')\n",
      "('double', '1')\n",
      "('sustainable', '1')\n",
      "('calls', '1')\n",
      "('crowdfunded', '1')\n",
      "('worrying', '1')\n",
      "('wrote', '1')\n",
      "('view', '1')\n",
      "('exists', '1')\n",
      "('supporting', '1')\n",
      "('encourages', '1')\n",
      "('touch', '1')\n",
      "('individual', '1')\n",
      "('devices', '1')\n",
      "('discussions', '1')\n",
      "('close', '1')\n",
      "('declined', '1')\n",
      "('closer', '1')\n",
      "('fails', '1')\n",
      "('formats', '1')\n",
      "('boundaries', '1')\n",
      "('importance', '1')\n",
      "('behind', '1')\n",
      "('classes', '1')\n",
      "('thrive', '1')\n",
      "('europe', '1')\n",
      "('publishers', '1')\n",
      "('missing', '1')\n",
      "('wo', '1')\n",
      "('joy', '1')\n",
      "('job', '1')\n",
      "('succeed', '1')\n",
      "('removing', '1')\n",
      "('creates', '1')\n",
      "('demonstrate', '1')\n",
      "('politically', '1')\n",
      "('survival', '1')\n",
      "('reverse', '1')\n",
      "('quiet', '1')\n",
      "('propaganda', '1')\n",
      "('odds', '1')\n",
      "('became', '1')\n",
      "('invites', '1')\n",
      "('concert', '1')\n",
      "('reduce', '1')\n",
      "('compromising', '1')\n",
      "('simple', '1')\n",
      "('ca', '1')\n",
      "('address', '1')\n",
      "('active', '1')\n",
      "('simply', '1')\n",
      "('asia', '1')\n",
      "('learning', '1')\n",
      "('article', '1')\n",
      "('speak', '1')\n",
      "('raise', '1')\n",
      "('basis', '1')\n",
      "('three', '1')\n",
      "('combined', '1')\n",
      "('basic', '1')\n",
      "('expected', '1')\n",
      "('combine', '1')\n",
      "('box', '1')\n",
      "('life', '1')\n",
      "('deeper', '1')\n",
      "('empowering', '1')\n",
      "('profanity', '1')\n",
      "('turned', '1')\n",
      "('face', '1')\n",
      "('protect', '1')\n",
      "('fund', '1')\n",
      "('minister', '1')\n",
      "('hateful', '1')\n",
      "('deepen', '1')\n",
      "('careful', '1')\n",
      "('present', '1')\n",
      "('case', '1')\n",
      "('homes', '1')\n",
      "('east', '1')\n",
      "('worried', '1')\n",
      "('permit', '1')\n",
      "('act', '1')\n",
      "('pace', '1')\n",
      "('warning', '1')\n",
      "('ongoing', '1')\n",
      "('referendum', '1')\n",
      "('none', '1')\n",
      "('newspaper', '1')\n",
      "('situation', '1')\n",
      "('noticed', '1')\n",
      "('studied', '1')\n",
      "('encouragement', '1')\n",
      "('hoax', '1')\n",
      "('middle', '1')\n",
      "('default', '1')\n",
      "('reports', '1')\n",
      "('politics', '1')\n",
      "('kenya', '1')\n",
      "('foreign', '1')\n",
      "('mediating', '1')\n",
      "('anymore', '1')\n",
      "('sensitive', '1')\n",
      "('perhaps', '1')\n",
      "('demands', '1')\n",
      "('member', '1')\n",
      "('prevented', '1')\n",
      "('underestimate', '1')\n",
      "('party', '1')\n",
      "('incentivize', '1')\n",
      "('conflict', '1')\n",
      "('difficult', '1')\n",
      "('assist', '1')\n",
      "('upon', '1')\n",
      "('malicious', '1')\n",
      "('attempted', '1')\n",
      "('bullying', '1')\n",
      "('action', '1')\n",
      "('moment', '1')\n",
      "('leaps', '1')\n",
      "('student', '1')\n",
      "('frequently', '1')\n",
      "('terribly', '1')\n",
      "('expand', '1')\n",
      "('nuanced', '1')\n",
      "('vantage', '1')\n",
      "('whose', '1')\n",
      "('analyzing', '1')\n",
      "('percentages', '1')\n",
      "('adapted', '1')\n",
      "('indonesia', '1')\n",
      "('game', '1')\n",
      "('asked', '1')\n",
      "('bullosa', '1')\n",
      "('sets', '1')\n",
      "('great', '1')\n",
      "('model', '1')\n",
      "('away', '1')\n",
      "('alerts', '1')\n",
      "('increasingly', '1')\n",
      "('inadequate', '1')\n",
      "('sources', '1')\n",
      "('thanks', '1')\n",
      "('facts', '1')\n",
      "('protecting', '1')\n",
      "('startups', '1')\n",
      "('reality', '1')\n",
      "('yet', '1')\n",
      "('preventing', '1')\n",
      "('painful', '1')\n",
      "('candidate', '1')\n",
      "('thinking', '1')\n",
      "('dogmas', '1')\n",
      "('insufficient', '1')\n",
      "('education', '1')\n",
      "('passive', '1')\n",
      "('reasons', '1')\n",
      "('location', '1')\n",
      "('surprised', '1')\n",
      "('victims', '1')\n",
      "('emergency', '1')\n",
      "('government', '1')\n",
      "('rules', '1')\n",
      "('big', '1')\n",
      "('handling', '1')\n",
      "('referenda', '1')\n",
      "('early', '1')\n",
      "('five', '1')\n",
      "('signals', '1')\n",
      "('judge', '1')\n",
      "('immediately', '1')\n",
      "('unique', '1')\n",
      "('loss', '1')\n",
      "('christina', '1')\n",
      "('success', '1')\n",
      "('obvious', '1')\n",
      "('orlando', '1')\n",
      "('accelerating', '1')\n",
      "('rituals', '1')\n",
      "('donations', '1')\n",
      "('security', '1')\n",
      "('disorder', '1')\n",
      "('reduced', '1')\n",
      "('fathers', '1')\n",
      "('fake', '1')\n",
      "('begin', '1')\n",
      "('platforms', '1')\n",
      "('economic', '1')\n",
      "('images', '1')\n",
      "('harassment', '1')\n",
      "('organizing', '1')\n",
      "('march', '1')\n",
      "('scales', '1')\n",
      "('proceeding', '1')\n",
      "('fourth', '1')\n",
      "('establish', '1')\n",
      "('decision', '1')\n",
      "('extensively', '1')\n",
      "('models', '1')\n",
      "('numbers', '1')\n",
      "('refer', '1')\n",
      "('run', '1')\n",
      "('intimate', '1')\n",
      "('lose', '1')\n",
      "('stay', '1')\n",
      "('periodically', '1')\n",
      "('lens', '1')\n",
      "('rare', '1')\n",
      "('consumption', '1')\n",
      "('communicating', '1')\n",
      "('freedom', '1')\n",
      "('newspapers', '1')\n",
      "('nightclub', '1')\n",
      "('informing', '1')\n",
      "('piled', '1')\n",
      "('ensure', '1')\n",
      "('stand', '1')\n",
      "('efforts', '1')\n",
      "('outstripped', '1')\n",
      "('pollution', '1')\n",
      "('amber', '1')\n",
      "('raised', '1')\n",
      "('fortunately', '1')\n",
      "('inclusion', '1')\n",
      "('civil', '1')\n",
      "('spreading', '1')\n",
      "('commitment', '1')\n",
      "('ministers', '1')\n",
      "('square', '1')\n",
      "('accounts', '1')\n",
      "('raises', '1')\n",
      "('determine', '1')\n",
      "('parties', '1')\n",
      "('balanced', '1')\n",
      "('technically', '1')\n",
      "('rely', '1')\n",
      "('span', '1')\n",
      "('bukhari', '1')\n",
      "('intrinsic', '1')\n",
      "('enforce', '1')\n",
      "('question', '1')\n",
      "('overestimate', '1')\n",
      "('noting', '1')\n",
      "('low', '1')\n",
      "('messenger', '1')\n",
      "('naturally', '1')\n",
      "('function', '1')\n",
      "('continents', '1')\n",
      "('offer', '1')\n",
      "('unsettled', '1')\n",
      "('restrictions', '1')\n",
      "('pastor', '1')\n",
      "('hundreds', '1')\n",
      "('principles', '1')\n",
      "('correlated', '1')\n",
      "('hear', '1')\n",
      "('trying', '1')\n",
      "('directed', '1')\n",
      "('engaging', '1')\n",
      "('operating', '1')\n",
      "('builds', '1')\n",
      "('reflects', '1')\n",
      "('alternate', '1')\n",
      "('called', '1')\n",
      "('strengthens', '1')\n",
      "('recognize', '1')\n",
      "('influence', '1')\n",
      "('general', '1')\n",
      "('exist', '1')\n",
      "('goodness', '1')\n",
      "('anything', '1')\n",
      "('shooting', '1')\n",
      "('diego', '1')\n",
      "('hundred', '1')\n",
      "('dying', '1')\n",
      "('ballot', '1')\n",
      "('peace', '1')\n",
      "('offensive', '1')\n",
      "('successful', '1')\n",
      "('politicians', '1')\n",
      "('setting', '1')\n",
      "('role', '1')\n",
      "('misclassifying', '1')\n",
      "('additional', '1')\n",
      "('accomplish', '1')\n",
      "('expose', '1')\n",
      "('conclusion', '1')\n",
      "('picture', '1')\n",
      "('nuance', '1')\n",
      "('generates', '1')\n",
      "('includes', '1')\n",
      "('lincoln', '1')\n",
      "('shift', '1')\n",
      "('aggregated', '1')\n",
      "('structure', '1')\n",
      "('source', '1')\n",
      "('accidents', '1')\n",
      "('invest', '1')\n",
      "('rescued', '1')\n",
      "('required', '1')\n",
      "('flag', '1')\n",
      "('vietnam', '1')\n",
      "('permissive', '1')\n",
      "('validation', '1')\n"
     ]
    }
   ],
   "source": [
    "with open('wordcount.csv') as csvfile:\n",
    "    reader = csv.DictReader(csvfile)\n",
    "    for row in reader:\n",
    "        print(row['word'], row['count'])"
   ]
  },
  {
   "cell_type": "markdown",
   "metadata": {
    "collapsed": true
   },
   "source": [
    "## Bonus"
   ]
  },
  {
   "cell_type": "markdown",
   "metadata": {},
   "source": [
    "Here I would like to build a dictionary with following structure:\n",
    "\n",
    "POS_wordcount = {\n",
    "\n",
    "    \"VB\":{\n",
    "    \n",
    "        play:1\n",
    "        \n",
    "        go:23\n",
    "        \n",
    "        ...\n",
    "        \n",
    "    },\n",
    "    \n",
    "    \"NN\":{\n",
    "    \n",
    "        community:80,\n",
    "        \n",
    "        government:52\n",
    "        \n",
    "        ...\n",
    "        \n",
    "    }\n",
    "   \n",
    "}"
   ]
  },
  {
   "cell_type": "code",
   "execution_count": 5,
   "metadata": {
    "collapsed": false
   },
   "outputs": [],
   "source": [
    "nltk.FreqDist(nltk.pos_tag(words)).items()\n",
    "POS_wordcount = {}\n",
    "\n",
    "for i in nltk.FreqDist(nltk.pos_tag(words)).items():\n",
    "    if i[0][1] in POS_wordcount:\n",
    "        POS_wordcount[i[0][1]].update({i[0][0]:i[1]})\n",
    "    else:\n",
    "        POS_wordcount[i[0][1]] = {}\n",
    "        POS_wordcount[i[0][1]].update({i[0][0]:i[1]})"
   ]
  },
  {
   "cell_type": "code",
   "execution_count": 6,
   "metadata": {
    "collapsed": false
   },
   "outputs": [
    {
     "data": {
      "text/plain": [
       "{'CD': {'billion': 4,\n",
       "  'five': 1,\n",
       "  'hundred': 1,\n",
       "  'million': 4,\n",
       "  'one': 10,\n",
       "  'ten': 1,\n",
       "  'three': 1,\n",
       "  'two': 7},\n",
       " 'DT': {'another': 1, 'every': 8},\n",
       " 'IN': {'across': 13,\n",
       "  'alongside': 1,\n",
       "  'although': 2,\n",
       "  'among': 2,\n",
       "  'anew': 1,\n",
       "  'around': 16,\n",
       "  'begin': 1,\n",
       "  'berlin': 1,\n",
       "  'beyond': 2,\n",
       "  'explore': 1,\n",
       "  'like': 18,\n",
       "  'past': 5,\n",
       "  'since': 5,\n",
       "  'upon': 1,\n",
       "  'videos': 1,\n",
       "  'whether': 8,\n",
       "  'within': 2,\n",
       "  'without': 4,\n",
       "  'worldwide': 2,\n",
       "  'worth': 1},\n",
       " 'JJ': {'able': 3,\n",
       "  'accuracy': 1,\n",
       "  'act': 1,\n",
       "  'active': 1,\n",
       "  'actual': 1,\n",
       "  'additional': 1,\n",
       "  'address': 1,\n",
       "  'affect': 1,\n",
       "  'ai': 1,\n",
       "  'american': 1,\n",
       "  'artificial': 2,\n",
       "  'attempted': 1,\n",
       "  'aware': 1,\n",
       "  'bad': 3,\n",
       "  'banning': 1,\n",
       "  'basic': 1,\n",
       "  'big': 1,\n",
       "  'black': 2,\n",
       "  'bother': 1,\n",
       "  'build': 1,\n",
       "  'child': 1,\n",
       "  'civic': 5,\n",
       "  'civil': 1,\n",
       "  'clear': 3,\n",
       "  'collective': 7,\n",
       "  'come': 1,\n",
       "  'common': 10,\n",
       "  'complete': 2,\n",
       "  'concert': 1,\n",
       "  'connect': 3,\n",
       "  'consistent': 1,\n",
       "  'content': 8,\n",
       "  'contribute': 1,\n",
       "  'controversial': 1,\n",
       "  'correct': 1,\n",
       "  'critical': 1,\n",
       "  'crowdfunded': 1,\n",
       "  'cultural': 7,\n",
       "  'current': 2,\n",
       "  'daily': 2,\n",
       "  'dedicated': 1,\n",
       "  'deepen': 1,\n",
       "  'democratic': 3,\n",
       "  'diego': 1,\n",
       "  'different': 8,\n",
       "  'difficult': 1,\n",
       "  'direct': 2,\n",
       "  'disaster': 1,\n",
       "  'discuss': 2,\n",
       "  'discussed': 1,\n",
       "  'distinct': 1,\n",
       "  'diverse': 2,\n",
       "  'double': 1,\n",
       "  'early': 1,\n",
       "  'east': 1,\n",
       "  'economic': 1,\n",
       "  'editorial': 1,\n",
       "  'effective': 1,\n",
       "  'eligible': 1,\n",
       "  'emotional': 2,\n",
       "  'enable': 1,\n",
       "  'engagement': 3,\n",
       "  'enough': 1,\n",
       "  'entire': 1,\n",
       "  'european': 1,\n",
       "  'evolving': 1,\n",
       "  'existential': 1,\n",
       "  'explicit': 1,\n",
       "  'fabric': 2,\n",
       "  'favorite': 4,\n",
       "  'feasible': 1,\n",
       "  'fight': 1,\n",
       "  'filter': 1,\n",
       "  'first': 2,\n",
       "  'fit': 1,\n",
       "  'foreign': 1,\n",
       "  'forward': 1,\n",
       "  'fourth': 1,\n",
       "  'free': 2,\n",
       "  'future': 1,\n",
       "  'general': 1,\n",
       "  'give': 5,\n",
       "  'global': 24,\n",
       "  'good': 4,\n",
       "  'govern': 1,\n",
       "  'graphic': 2,\n",
       "  'great': 1,\n",
       "  'half': 1,\n",
       "  'harassment': 1,\n",
       "  'harm': 1,\n",
       "  'hate': 1,\n",
       "  'healthy': 2,\n",
       "  'high': 1,\n",
       "  'historical': 2,\n",
       "  'hoaxes': 1,\n",
       "  'honor': 1,\n",
       "  'identify': 1,\n",
       "  'ideological': 2,\n",
       "  'impact': 2,\n",
       "  'important': 19,\n",
       "  'impossible': 1,\n",
       "  'inclusive': 3,\n",
       "  'india': 1,\n",
       "  'individual': 1,\n",
       "  'institutional': 1,\n",
       "  'insufficient': 1,\n",
       "  'interact': 1,\n",
       "  'intrinsic': 1,\n",
       "  'invest': 1,\n",
       "  'know': 1,\n",
       "  'large': 4,\n",
       "  'last': 3,\n",
       "  'leading': 1,\n",
       "  'let': 1,\n",
       "  'likely': 2,\n",
       "  'little': 3,\n",
       "  'live': 1,\n",
       "  'local': 13,\n",
       "  'long': 3,\n",
       "  'lose': 1,\n",
       "  'low': 1,\n",
       "  'major': 2,\n",
       "  'malicious': 1,\n",
       "  'many': 22,\n",
       "  'matt': 1,\n",
       "  'meaningful': 5,\n",
       "  'mental': 1,\n",
       "  'mentorship': 1,\n",
       "  'military': 1,\n",
       "  'mobile': 1,\n",
       "  'moral': 1,\n",
       "  'much': 1,\n",
       "  'multiple': 1,\n",
       "  'national': 2,\n",
       "  'natural': 2,\n",
       "  'necessary': 2,\n",
       "  'need': 1,\n",
       "  'nepal': 1,\n",
       "  'new': 16,\n",
       "  'newsworthy': 2,\n",
       "  'next': 3,\n",
       "  'nightclub': 1,\n",
       "  'notified': 1,\n",
       "  'nuanced': 1,\n",
       "  'nudity': 1,\n",
       "  'objectionable': 5,\n",
       "  'obvious': 1,\n",
       "  'offensive': 1,\n",
       "  'offline': 1,\n",
       "  'online': 6,\n",
       "  'open': 1,\n",
       "  'operational': 1,\n",
       "  'organ': 1,\n",
       "  'overall': 2,\n",
       "  'painful': 1,\n",
       "  'parliament': 1,\n",
       "  'pass': 1,\n",
       "  'passive': 1,\n",
       "  'past': 2,\n",
       "  'permissive': 1,\n",
       "  'personal': 10,\n",
       "  'perspective': 1,\n",
       "  'photos': 1,\n",
       "  'physical': 6,\n",
       "  'polarized': 1,\n",
       "  'political': 4,\n",
       "  'positive': 7,\n",
       "  'possible': 4,\n",
       "  'powerful': 1,\n",
       "  'present': 1,\n",
       "  'primary': 1,\n",
       "  'prime': 1,\n",
       "  'public': 4,\n",
       "  'pulse': 1,\n",
       "  'purpose': 2,\n",
       "  'quiet': 1,\n",
       "  'rare': 1,\n",
       "  'reach': 1,\n",
       "  'read': 1,\n",
       "  'real': 4,\n",
       "  'rebuild': 1,\n",
       "  'recent': 1,\n",
       "  'referendum': 1,\n",
       "  'reflect': 1,\n",
       "  'refugee': 2,\n",
       "  'register': 1,\n",
       "  'related': 4,\n",
       "  'right': 3,\n",
       "  'safe': 12,\n",
       "  'scale': 3,\n",
       "  'second': 1,\n",
       "  'sensational': 2,\n",
       "  'sensitive': 1,\n",
       "  'shelter': 1,\n",
       "  'sign': 1,\n",
       "  'similar': 2,\n",
       "  'simple': 1,\n",
       "  'single': 3,\n",
       "  'small': 1,\n",
       "  'social': 31,\n",
       "  'sooner': 1,\n",
       "  'speech': 1,\n",
       "  'spiritual': 2,\n",
       "  'strong': 2,\n",
       "  'successful': 1,\n",
       "  'suggestive': 1,\n",
       "  'supportive': 3,\n",
       "  'sure': 2,\n",
       "  'surface': 1,\n",
       "  'sustainable': 1,\n",
       "  'terrible': 1,\n",
       "  'terrorist': 2,\n",
       "  'thank': 1,\n",
       "  'third': 1,\n",
       "  'thoughtful': 1,\n",
       "  'tools': 1,\n",
       "  'touch': 1,\n",
       "  'traditional': 2,\n",
       "  'tragic': 1,\n",
       "  'tribes': 2,\n",
       "  'uncovering': 1,\n",
       "  'underestimate': 1,\n",
       "  'understand': 2,\n",
       "  'understanding': 2,\n",
       "  'unique': 1,\n",
       "  'united': 1,\n",
       "  'unrelated': 1,\n",
       "  'unsettled': 1,\n",
       "  'unwanted': 1,\n",
       "  'update': 2,\n",
       "  'ups': 1,\n",
       "  'use': 2,\n",
       "  'vast': 2,\n",
       "  'video': 1,\n",
       "  'videos': 1,\n",
       "  'violent': 2,\n",
       "  'virus': 1,\n",
       "  'vital': 1,\n",
       "  'whole': 2,\n",
       "  'worldwide': 1,\n",
       "  'wrong': 1},\n",
       " 'JJR': {'better': 3,\n",
       "  'bigger': 2,\n",
       "  'broader': 1,\n",
       "  'deeper': 1,\n",
       "  'easier': 1,\n",
       "  'greater': 4,\n",
       "  'larger': 2,\n",
       "  'less': 1,\n",
       "  'smaller': 2},\n",
       " 'JJS': {'best': 3, 'greatest': 8, 'largest': 6, 'least': 1, 'worst': 1},\n",
       " 'MD': {'ca': 1,\n",
       "  'could': 6,\n",
       "  'may': 8,\n",
       "  'might': 4,\n",
       "  'must': 13,\n",
       "  'need': 1,\n",
       "  'wo': 1,\n",
       "  'would': 5},\n",
       " 'NN': {'ability': 2,\n",
       "  'access': 1,\n",
       "  'account': 1,\n",
       "  'accountability': 1,\n",
       "  'accuracy': 1,\n",
       "  'action': 1,\n",
       "  'advice': 1,\n",
       "  'alternate': 1,\n",
       "  'amount': 1,\n",
       "  'anyone': 3,\n",
       "  'anything': 1,\n",
       "  'approach': 4,\n",
       "  'area': 1,\n",
       "  'article': 1,\n",
       "  'asia': 1,\n",
       "  'assist': 1,\n",
       "  'ballot': 1,\n",
       "  'basis': 1,\n",
       "  'become': 2,\n",
       "  'blood': 1,\n",
       "  'box': 1,\n",
       "  'building': 8,\n",
       "  'bukhari': 1,\n",
       "  'bullosa': 1,\n",
       "  'business': 2,\n",
       "  'california': 1,\n",
       "  'capture': 2,\n",
       "  'care': 1,\n",
       "  'case': 1,\n",
       "  'century': 1,\n",
       "  'change': 2,\n",
       "  'check': 3,\n",
       "  'child': 2,\n",
       "  'civic': 3,\n",
       "  'click': 1,\n",
       "  'climate': 1,\n",
       "  'combine': 1,\n",
       "  'comfort': 1,\n",
       "  'commitment': 1,\n",
       "  'communication': 2,\n",
       "  'community': 80,\n",
       "  'company': 1,\n",
       "  'complexity': 2,\n",
       "  'conclusion': 1,\n",
       "  'connect': 2,\n",
       "  'connection': 3,\n",
       "  'consumption': 1,\n",
       "  'contain': 1,\n",
       "  'content': 13,\n",
       "  'control': 2,\n",
       "  'country': 3,\n",
       "  'course': 2,\n",
       "  'crime': 1,\n",
       "  'crisis': 4,\n",
       "  'culture': 1,\n",
       "  'day': 3,\n",
       "  'debate': 1,\n",
       "  'decade': 1,\n",
       "  'decision': 1,\n",
       "  'decline': 2,\n",
       "  'default': 1,\n",
       "  'demonstrate': 1,\n",
       "  'design': 1,\n",
       "  'determine': 1,\n",
       "  'development': 3,\n",
       "  'dialogue': 2,\n",
       "  'difference': 1,\n",
       "  'difficulty': 1,\n",
       "  'disaster': 1,\n",
       "  'discourse': 4,\n",
       "  'discussion': 1,\n",
       "  'disease': 2,\n",
       "  'disorder': 1,\n",
       "  'diversity': 5,\n",
       "  'divisiveness': 1,\n",
       "  'dogmas': 1,\n",
       "  'doubt': 1,\n",
       "  'earthquake': 1,\n",
       "  'education': 1,\n",
       "  'effort': 2,\n",
       "  'election': 2,\n",
       "  'emergency': 1,\n",
       "  'encourage': 1,\n",
       "  'encouragement': 1,\n",
       "  'encryption': 1,\n",
       "  'energy': 1,\n",
       "  'engagement': 3,\n",
       "  'entertainment': 1,\n",
       "  'environment': 1,\n",
       "  'epidermolysis': 1,\n",
       "  'europe': 1,\n",
       "  'event': 2,\n",
       "  'everyone': 5,\n",
       "  'everything': 1,\n",
       "  'example': 8,\n",
       "  'exist': 1,\n",
       "  'experience': 6,\n",
       "  'explore': 1,\n",
       "  'fabric': 2,\n",
       "  'facebook': 14,\n",
       "  'fact': 1,\n",
       "  'family': 3,\n",
       "  'fault': 1,\n",
       "  'feed': 1,\n",
       "  'feedback': 1,\n",
       "  'fight': 1,\n",
       "  'flag': 1,\n",
       "  'focus': 3,\n",
       "  'food': 1,\n",
       "  'force': 1,\n",
       "  'freedom': 1,\n",
       "  'function': 1,\n",
       "  'fund': 1,\n",
       "  'game': 1,\n",
       "  'globalization': 1,\n",
       "  'goal': 2,\n",
       "  'goodness': 1,\n",
       "  'governance': 5,\n",
       "  'government': 1,\n",
       "  'grandmother': 1,\n",
       "  'group': 7,\n",
       "  'grow': 2,\n",
       "  'guidance': 1,\n",
       "  'half': 1,\n",
       "  'harm': 5,\n",
       "  'hate': 1,\n",
       "  'hateful': 1,\n",
       "  'headline': 1,\n",
       "  'health': 3,\n",
       "  'help': 15,\n",
       "  'history': 4,\n",
       "  'hoax': 1,\n",
       "  'hold': 1,\n",
       "  'hope': 3,\n",
       "  'humanity': 4,\n",
       "  'idea': 4,\n",
       "  'identify': 1,\n",
       "  'impact': 4,\n",
       "  'importance': 1,\n",
       "  'improving': 1,\n",
       "  'inadequate': 1,\n",
       "  'incentivize': 1,\n",
       "  'inclusion': 1,\n",
       "  'india': 1,\n",
       "  'indonesia': 1,\n",
       "  'industry': 2,\n",
       "  'influence': 1,\n",
       "  'information': 8,\n",
       "  'infrastructure': 24,\n",
       "  'intelligence': 2,\n",
       "  'internet': 2,\n",
       "  'isolation': 1,\n",
       "  'item': 1,\n",
       "  'job': 1,\n",
       "  'journey': 2,\n",
       "  'judge': 1,\n",
       "  'lack': 2,\n",
       "  'level': 1,\n",
       "  'liberty': 1,\n",
       "  'life': 1,\n",
       "  'lincoln': 1,\n",
       "  'line': 2,\n",
       "  'location': 1,\n",
       "  'loss': 1,\n",
       "  'lot': 2,\n",
       "  'majority': 3,\n",
       "  'make': 1,\n",
       "  'man': 2,\n",
       "  'mark': 1,\n",
       "  'market': 1,\n",
       "  'matter': 1,\n",
       "  'meaningful': 1,\n",
       "  'measure': 2,\n",
       "  'medium': 3,\n",
       "  'member': 1,\n",
       "  'membership': 2,\n",
       "  'messaging': 1,\n",
       "  'messenger': 1,\n",
       "  'minimize': 1,\n",
       "  'minister': 1,\n",
       "  'misinformation': 4,\n",
       "  'mission': 1,\n",
       "  'model': 1,\n",
       "  'modi': 1,\n",
       "  'moment': 1,\n",
       "  'monis': 2,\n",
       "  'month': 1,\n",
       "  'nation': 2,\n",
       "  'need': 4,\n",
       "  'net': 1,\n",
       "  'network': 2,\n",
       "  'news': 12,\n",
       "  'newspaper': 1,\n",
       "  'none': 1,\n",
       "  'nudity': 4,\n",
       "  'number': 3,\n",
       "  'occasion': 2,\n",
       "  'offer': 1,\n",
       "  'online': 1,\n",
       "  'opinion': 2,\n",
       "  'opportunity': 8,\n",
       "  'organization': 2,\n",
       "  'organize': 1,\n",
       "  'origin': 1,\n",
       "  'orlando': 1,\n",
       "  'pace': 1,\n",
       "  'part': 9,\n",
       "  'participation': 4,\n",
       "  'party': 1,\n",
       "  'pastor': 1,\n",
       "  'path': 2,\n",
       "  'peace': 1,\n",
       "  'percent': 1,\n",
       "  'permit': 1,\n",
       "  'person': 4,\n",
       "  'philosophy': 1,\n",
       "  'photo': 3,\n",
       "  'photos': 1,\n",
       "  'picture': 1,\n",
       "  'place': 1,\n",
       "  'plan': 2,\n",
       "  'play': 1,\n",
       "  'point': 2,\n",
       "  'polarization': 4,\n",
       "  'police': 1,\n",
       "  'policy': 1,\n",
       "  'population': 2,\n",
       "  'position': 1,\n",
       "  'post': 2,\n",
       "  'power': 5,\n",
       "  'president': 1,\n",
       "  'prevent': 2,\n",
       "  'privacy': 1,\n",
       "  'process': 5,\n",
       "  'profanity': 1,\n",
       "  'progress': 5,\n",
       "  'project': 1,\n",
       "  'propaganda': 1,\n",
       "  'prosperity': 1,\n",
       "  'protest': 2,\n",
       "  'quality': 1,\n",
       "  'question': 1,\n",
       "  'raise': 1,\n",
       "  'range': 5,\n",
       "  'reality': 1,\n",
       "  'reason': 1,\n",
       "  'rebuild': 1,\n",
       "  'referenda': 1,\n",
       "  'region': 2,\n",
       "  'reinforce': 2,\n",
       "  'relief': 1,\n",
       "  'religion': 1,\n",
       "  'require': 1,\n",
       "  'research': 4,\n",
       "  'resonant': 1,\n",
       "  'responsibility': 2,\n",
       "  'reverse': 1,\n",
       "  'review': 3,\n",
       "  'role': 1,\n",
       "  'safety': 7,\n",
       "  'scale': 1,\n",
       "  'school': 1,\n",
       "  'science': 1,\n",
       "  'security': 1,\n",
       "  'see': 3,\n",
       "  'sensational': 1,\n",
       "  'sensationalism': 6,\n",
       "  'sense': 2,\n",
       "  'set': 1,\n",
       "  'share': 20,\n",
       "  'shelter': 1,\n",
       "  'shift': 1,\n",
       "  'show': 3,\n",
       "  'sign': 1,\n",
       "  'simplicity': 1,\n",
       "  'situation': 1,\n",
       "  'society': 7,\n",
       "  'solve': 1,\n",
       "  'someone': 3,\n",
       "  'something': 5,\n",
       "  'source': 1,\n",
       "  'spam': 1,\n",
       "  'speech': 3,\n",
       "  'spot': 1,\n",
       "  'square': 1,\n",
       "  'step': 2,\n",
       "  'stormy': 1,\n",
       "  'story': 4,\n",
       "  'strengthen': 2,\n",
       "  'structure': 1,\n",
       "  'student': 1,\n",
       "  'success': 1,\n",
       "  'suicide': 1,\n",
       "  'support': 3,\n",
       "  'surprising': 1,\n",
       "  'system': 7,\n",
       "  'tag': 1,\n",
       "  'tahrir': 1,\n",
       "  'talk': 1,\n",
       "  'tea': 1,\n",
       "  'team': 4,\n",
       "  'technology': 4,\n",
       "  'tell': 1,\n",
       "  'term': 2,\n",
       "  'terror': 2,\n",
       "  'terrorism': 3,\n",
       "  'text': 1,\n",
       "  'thing': 1,\n",
       "  'time': 8,\n",
       "  'today': 10,\n",
       "  'trend': 1,\n",
       "  'truth': 1,\n",
       "  'turnout': 1,\n",
       "  'tv': 4,\n",
       "  'understand': 1,\n",
       "  'use': 1,\n",
       "  'validation': 1,\n",
       "  'vantage': 1,\n",
       "  'video': 2,\n",
       "  'videos': 1,\n",
       "  'vietnam': 1,\n",
       "  'view': 1,\n",
       "  'violence': 4,\n",
       "  'voice': 3,\n",
       "  'vote': 4,\n",
       "  'voter': 1,\n",
       "  'voting': 1,\n",
       "  'war': 3,\n",
       "  'way': 6,\n",
       "  'whatsapp': 2,\n",
       "  'woman': 1,\n",
       "  'work': 6,\n",
       "  'world': 36,\n",
       "  'worry': 1,\n",
       "  'year': 6},\n",
       " 'NNS': {'accidents': 1,\n",
       "  'accounts': 1,\n",
       "  'activities': 1,\n",
       "  'advances': 1,\n",
       "  'advocates': 1,\n",
       "  'afterwards': 4,\n",
       "  'alerts': 1,\n",
       "  'americans': 1,\n",
       "  'areas': 2,\n",
       "  'aspects': 1,\n",
       "  'backgrounds': 1,\n",
       "  'believe': 1,\n",
       "  'billions': 2,\n",
       "  'boosts': 1,\n",
       "  'boundaries': 1,\n",
       "  'bubbles': 1,\n",
       "  'builds': 1,\n",
       "  'calls': 1,\n",
       "  'campaigns': 1,\n",
       "  'cases': 3,\n",
       "  'challenges': 3,\n",
       "  'checkers': 1,\n",
       "  'children': 1,\n",
       "  'christina': 1,\n",
       "  'churches': 1,\n",
       "  'cities': 5,\n",
       "  'citizens': 3,\n",
       "  'classes': 1,\n",
       "  'classrooms': 1,\n",
       "  'comments': 2,\n",
       "  'communities': 25,\n",
       "  'companies': 1,\n",
       "  'concerns': 1,\n",
       "  'connections': 3,\n",
       "  'continents': 1,\n",
       "  'controls': 3,\n",
       "  'conversations': 1,\n",
       "  'countries': 4,\n",
       "  'crises': 4,\n",
       "  'cultures': 4,\n",
       "  'debates': 1,\n",
       "  'decades': 1,\n",
       "  'demands': 1,\n",
       "  'demonstrations': 1,\n",
       "  'devices': 1,\n",
       "  'dinners': 1,\n",
       "  'directions': 1,\n",
       "  'disasters': 2,\n",
       "  'discussions': 1,\n",
       "  'donations': 1,\n",
       "  'donors': 1,\n",
       "  'dorms': 1,\n",
       "  'effects': 4,\n",
       "  'efforts': 1,\n",
       "  'elections': 2,\n",
       "  'emergencies': 1,\n",
       "  'encourages': 1,\n",
       "  'errors': 3,\n",
       "  'europeans': 1,\n",
       "  'events': 2,\n",
       "  'examples': 3,\n",
       "  'exists': 1,\n",
       "  'expectations': 1,\n",
       "  'experiences': 2,\n",
       "  'exposes': 1,\n",
       "  'families': 4,\n",
       "  'fathers': 1,\n",
       "  'find': 1,\n",
       "  'focus': 1,\n",
       "  'focuses': 1,\n",
       "  'formats': 1,\n",
       "  'friends': 12,\n",
       "  'gatherings': 1,\n",
       "  'generations': 1,\n",
       "  'governments': 4,\n",
       "  'groups': 23,\n",
       "  'headlines': 1,\n",
       "  'hoaxes': 1,\n",
       "  'homes': 1,\n",
       "  'hundreds': 1,\n",
       "  'ideas': 6,\n",
       "  'images': 1,\n",
       "  'increases': 1,\n",
       "  'institutions': 2,\n",
       "  'interests': 2,\n",
       "  'invites': 1,\n",
       "  'issues': 11,\n",
       "  'jobs': 2,\n",
       "  'jokes': 1,\n",
       "  'juries': 1,\n",
       "  'kids': 1,\n",
       "  'laws': 1,\n",
       "  'layers': 1,\n",
       "  'leaders': 4,\n",
       "  'leaps': 1,\n",
       "  'levels': 2,\n",
       "  'lives': 3,\n",
       "  'media': 10,\n",
       "  'meetings': 1,\n",
       "  'members': 3,\n",
       "  'men': 1,\n",
       "  'messages': 3,\n",
       "  'millions': 5,\n",
       "  'ministers': 1,\n",
       "  'mistakes': 2,\n",
       "  'models': 1,\n",
       "  'moments': 1,\n",
       "  'months': 1,\n",
       "  'movements': 2,\n",
       "  'nations': 4,\n",
       "  'needs': 1,\n",
       "  'networks': 2,\n",
       "  'newspapers': 1,\n",
       "  'norms': 6,\n",
       "  'numbers': 1,\n",
       "  'ones': 1,\n",
       "  'opinions': 4,\n",
       "  'opportunities': 2,\n",
       "  'options': 2,\n",
       "  'organizations': 4,\n",
       "  'others': 4,\n",
       "  'oversimplifies': 1,\n",
       "  'pages': 1,\n",
       "  'pandemics': 1,\n",
       "  'parents': 2,\n",
       "  'parties': 1,\n",
       "  'patients': 1,\n",
       "  'people': 62,\n",
       "  'percentages': 1,\n",
       "  'perspectives': 6,\n",
       "  'pieces': 2,\n",
       "  'platforms': 1,\n",
       "  'policies': 1,\n",
       "  'politicians': 1,\n",
       "  'politics': 1,\n",
       "  'positions': 1,\n",
       "  'prevents': 2,\n",
       "  'principles': 1,\n",
       "  'problems': 4,\n",
       "  'processes': 3,\n",
       "  'products': 1,\n",
       "  'publishers': 1,\n",
       "  'pushes': 1,\n",
       "  'questions': 5,\n",
       "  'reasons': 1,\n",
       "  'rebuilds': 2,\n",
       "  'refugees': 2,\n",
       "  'regions': 1,\n",
       "  'registries': 1,\n",
       "  'relationships': 3,\n",
       "  'remarks': 1,\n",
       "  'reports': 1,\n",
       "  'representatives': 6,\n",
       "  'resources': 2,\n",
       "  'responses': 2,\n",
       "  'restrictions': 1,\n",
       "  'reviewers': 1,\n",
       "  'risks': 1,\n",
       "  'rituals': 1,\n",
       "  'roles': 1,\n",
       "  'rules': 1,\n",
       "  'segments': 1,\n",
       "  'services': 2,\n",
       "  'sets': 1,\n",
       "  'settings': 2,\n",
       "  'shows': 2,\n",
       "  'signals': 1,\n",
       "  'solutions': 1,\n",
       "  'sons': 1,\n",
       "  'sources': 1,\n",
       "  'spans': 1,\n",
       "  'sports': 4,\n",
       "  'standards': 11,\n",
       "  'states': 2,\n",
       "  'steps': 2,\n",
       "  'stories': 3,\n",
       "  'strengthens': 1,\n",
       "  'structures': 1,\n",
       "  'suggestions': 1,\n",
       "  'suggests': 1,\n",
       "  'suicides': 1,\n",
       "  'surveys': 1,\n",
       "  'systems': 3,\n",
       "  'teams': 2,\n",
       "  'thanks': 1,\n",
       "  'things': 5,\n",
       "  'threats': 2,\n",
       "  'times': 4,\n",
       "  'tools': 9,\n",
       "  'topics': 1,\n",
       "  'towards': 4,\n",
       "  'types': 1,\n",
       "  'unions': 1,\n",
       "  'updates': 1,\n",
       "  'values': 6,\n",
       "  'victims': 1,\n",
       "  'videos': 2,\n",
       "  'viewpoints': 2,\n",
       "  'views': 3,\n",
       "  'villages': 1,\n",
       "  'voices': 2,\n",
       "  'wars': 1,\n",
       "  'ways': 3,\n",
       "  'women': 1,\n",
       "  'years': 7},\n",
       " 'PRP': {'us': 38},\n",
       " 'RB': {'accurately': 1,\n",
       "  'actually': 2,\n",
       "  'ago': 1,\n",
       "  'ahead': 3,\n",
       "  'ai': 1,\n",
       "  'almost': 3,\n",
       "  'alone': 4,\n",
       "  'already': 4,\n",
       "  'also': 9,\n",
       "  'always': 8,\n",
       "  'amplify': 1,\n",
       "  'anew': 1,\n",
       "  'anymore': 1,\n",
       "  'anytime': 1,\n",
       "  'away': 1,\n",
       "  'best': 1,\n",
       "  'better': 2,\n",
       "  'carefully': 1,\n",
       "  'completely': 2,\n",
       "  'directly': 2,\n",
       "  'dramatically': 1,\n",
       "  'enable': 1,\n",
       "  'enough': 1,\n",
       "  'especially': 1,\n",
       "  'even': 14,\n",
       "  'eventually': 2,\n",
       "  'ever': 5,\n",
       "  'explore': 1,\n",
       "  'extensively': 1,\n",
       "  'extremely': 1,\n",
       "  'extremes': 1,\n",
       "  'favor': 1,\n",
       "  'finally': 1,\n",
       "  'first': 1,\n",
       "  'fortunately': 1,\n",
       "  'forward': 4,\n",
       "  'frequently': 1,\n",
       "  'fully': 2,\n",
       "  'historically': 2,\n",
       "  'however': 2,\n",
       "  'immediately': 1,\n",
       "  'increasingly': 1,\n",
       "  'instead': 3,\n",
       "  'long': 1,\n",
       "  'much': 1,\n",
       "  'naturally': 1,\n",
       "  'never': 2,\n",
       "  'newly': 1,\n",
       "  'nuance': 1,\n",
       "  'offline': 1,\n",
       "  'often': 6,\n",
       "  'opposite': 1,\n",
       "  'perhaps': 1,\n",
       "  'periodically': 1,\n",
       "  'personally': 1,\n",
       "  'politically': 1,\n",
       "  'quickly': 5,\n",
       "  'rebuild': 1,\n",
       "  'recently': 4,\n",
       "  'relatively': 1,\n",
       "  'right': 2,\n",
       "  'seriously': 2,\n",
       "  'sexually': 2,\n",
       "  'similarly': 3,\n",
       "  'simply': 1,\n",
       "  'sometimes': 5,\n",
       "  'spam': 1,\n",
       "  'still': 3,\n",
       "  'technically': 1,\n",
       "  'terribly': 1,\n",
       "  'together': 18,\n",
       "  'uniquely': 2,\n",
       "  'usually': 3,\n",
       "  'voice': 2,\n",
       "  'well': 9,\n",
       "  'yet': 1},\n",
       " 'RBR': {'less': 3, 'look': 1, 'matter': 1},\n",
       " 'RP': {'ai': 1, 'around': 2, 'attack': 1, 'behind': 1},\n",
       " 'VB': {'adapt': 2,\n",
       "  'affected': 1,\n",
       "  'alerted': 1,\n",
       "  'allow': 1,\n",
       "  'block': 1,\n",
       "  'bring': 1,\n",
       "  'build': 3,\n",
       "  'built': 2,\n",
       "  'careful': 1,\n",
       "  'check': 1,\n",
       "  'close': 1,\n",
       "  'closer': 1,\n",
       "  'come': 6,\n",
       "  'commit': 2,\n",
       "  'connect': 1,\n",
       "  'contribute': 2,\n",
       "  'create': 2,\n",
       "  'develop': 1,\n",
       "  'dig': 1,\n",
       "  'emphasize': 3,\n",
       "  'enforce': 1,\n",
       "  'engage': 2,\n",
       "  'ensure': 1,\n",
       "  'establish': 1,\n",
       "  'evolve': 2,\n",
       "  'facebook': 3,\n",
       "  'feel': 1,\n",
       "  'find': 1,\n",
       "  'form': 1,\n",
       "  'fragment': 1,\n",
       "  'give': 1,\n",
       "  'happen': 1,\n",
       "  'help': 3,\n",
       "  'identify': 2,\n",
       "  'improve': 2,\n",
       "  'increase': 2,\n",
       "  'joy': 1,\n",
       "  'keep': 3,\n",
       "  'know': 1,\n",
       "  'let': 1,\n",
       "  'like': 1,\n",
       "  'look': 1,\n",
       "  'make': 1,\n",
       "  'marked': 1,\n",
       "  'meet': 1,\n",
       "  'mitigate': 1,\n",
       "  'need': 2,\n",
       "  'okay': 2,\n",
       "  'participate': 4,\n",
       "  'prevent': 1,\n",
       "  'prevented': 1,\n",
       "  'provide': 2,\n",
       "  'rebuild': 1,\n",
       "  'recognize': 1,\n",
       "  'reduce': 1,\n",
       "  'remove': 1,\n",
       "  'rise': 1,\n",
       "  'save': 1,\n",
       "  'see': 4,\n",
       "  'set': 1,\n",
       "  'solve': 1,\n",
       "  'speak': 1,\n",
       "  'spectrum': 1,\n",
       "  'start': 1,\n",
       "  'strengthen': 1,\n",
       "  'succeed': 1,\n",
       "  'support': 2,\n",
       "  'take': 3,\n",
       "  'think': 2,\n",
       "  'want': 2,\n",
       "  'work': 5},\n",
       " 'VBD': {'activated': 2,\n",
       "  'adapted': 1,\n",
       "  'asked': 1,\n",
       "  'balanced': 1,\n",
       "  'became': 1,\n",
       "  'began': 2,\n",
       "  'bright': 1,\n",
       "  'built': 1,\n",
       "  'committed': 1,\n",
       "  'coordinated': 1,\n",
       "  'correlated': 1,\n",
       "  'declined': 1,\n",
       "  'diagnosed': 1,\n",
       "  'directed': 1,\n",
       "  'elected': 1,\n",
       "  'engaged': 1,\n",
       "  'focused': 2,\n",
       "  'found': 1,\n",
       "  'got': 1,\n",
       "  'helped': 2,\n",
       "  'increased': 1,\n",
       "  'learned': 1,\n",
       "  'led': 1,\n",
       "  'left': 2,\n",
       "  'made': 3,\n",
       "  'met': 1,\n",
       "  'organized': 1,\n",
       "  'outright': 1,\n",
       "  'outstripped': 1,\n",
       "  'positioned': 1,\n",
       "  'reduced': 1,\n",
       "  'reminded': 1,\n",
       "  'reported': 3,\n",
       "  'saw': 2,\n",
       "  'set': 1,\n",
       "  'shared': 1,\n",
       "  'spread': 1,\n",
       "  'started': 3,\n",
       "  'studied': 1,\n",
       "  'surprised': 1,\n",
       "  'told': 2,\n",
       "  'turned': 1,\n",
       "  'worried': 1,\n",
       "  'wrote': 1},\n",
       " 'VBG': {'accelerating': 1,\n",
       "  'accepting': 1,\n",
       "  'analyzing': 1,\n",
       "  'answering': 1,\n",
       "  'becoming': 3,\n",
       "  'bring': 1,\n",
       "  'bringing': 4,\n",
       "  'building': 11,\n",
       "  'bullying': 1,\n",
       "  'coming': 2,\n",
       "  'communicating': 1,\n",
       "  'compromising': 1,\n",
       "  'connecting': 6,\n",
       "  'creating': 1,\n",
       "  'criticizing': 1,\n",
       "  'cutting': 1,\n",
       "  'declining': 2,\n",
       "  'depicting': 2,\n",
       "  'developing': 4,\n",
       "  'disturbing': 1,\n",
       "  'dying': 1,\n",
       "  'empowering': 1,\n",
       "  'enabling': 2,\n",
       "  'ending': 1,\n",
       "  'engaging': 1,\n",
       "  'establishing': 2,\n",
       "  'evolving': 1,\n",
       "  'existing': 6,\n",
       "  'fighting': 2,\n",
       "  'finding': 1,\n",
       "  'following': 1,\n",
       "  'framing': 1,\n",
       "  'getting': 2,\n",
       "  'giving': 4,\n",
       "  'going': 5,\n",
       "  'governing': 1,\n",
       "  'growing': 1,\n",
       "  'guiding': 2,\n",
       "  'handling': 1,\n",
       "  'happening': 2,\n",
       "  'helping': 4,\n",
       "  'hurting': 1,\n",
       "  'impacting': 1,\n",
       "  'improving': 4,\n",
       "  'including': 3,\n",
       "  'increasing': 2,\n",
       "  'informing': 1,\n",
       "  'joining': 2,\n",
       "  'keeping': 5,\n",
       "  'learning': 1,\n",
       "  'leaving': 1,\n",
       "  'lifting': 1,\n",
       "  'looking': 2,\n",
       "  'making': 2,\n",
       "  'marching': 1,\n",
       "  'mediating': 1,\n",
       "  'misclassifying': 1,\n",
       "  'missing': 1,\n",
       "  'mitigating': 2,\n",
       "  'noting': 1,\n",
       "  'ongoing': 1,\n",
       "  'operating': 1,\n",
       "  'organizing': 1,\n",
       "  'parenting': 1,\n",
       "  'playing': 1,\n",
       "  'preventing': 1,\n",
       "  'proceeding': 1,\n",
       "  'promoting': 1,\n",
       "  'protecting': 1,\n",
       "  'raising': 2,\n",
       "  'reading': 6,\n",
       "  'receding': 1,\n",
       "  'reducing': 1,\n",
       "  'reflecting': 3,\n",
       "  'removing': 1,\n",
       "  'researching': 1,\n",
       "  'saying': 1,\n",
       "  'scaling': 1,\n",
       "  'serving': 1,\n",
       "  'setting': 1,\n",
       "  'settling': 1,\n",
       "  'sharing': 1,\n",
       "  'shifting': 1,\n",
       "  'shooting': 1,\n",
       "  'showing': 2,\n",
       "  'sitting': 1,\n",
       "  'spanning': 1,\n",
       "  'speaking': 1,\n",
       "  'spreading': 1,\n",
       "  'starting': 2,\n",
       "  'staying': 1,\n",
       "  'strengthening': 3,\n",
       "  'striking': 2,\n",
       "  'suffering': 1,\n",
       "  'supporting': 1,\n",
       "  'surfacing': 1,\n",
       "  'taking': 6,\n",
       "  'thinking': 1,\n",
       "  'transcending': 1,\n",
       "  'trying': 1,\n",
       "  'understanding': 6,\n",
       "  'using': 2,\n",
       "  'voting': 4,\n",
       "  'warning': 1,\n",
       "  'watching': 1,\n",
       "  'withdrawing': 1,\n",
       "  'working': 1,\n",
       "  'worrying': 1},\n",
       " 'VBN': {'added': 1,\n",
       "  'aggregated': 1,\n",
       "  'allowed': 1,\n",
       "  'amplified': 1,\n",
       "  'based': 4,\n",
       "  'become': 1,\n",
       "  'built': 7,\n",
       "  'called': 1,\n",
       "  'charged': 1,\n",
       "  'combined': 1,\n",
       "  'committed': 1,\n",
       "  'compared': 2,\n",
       "  'connected': 3,\n",
       "  'dedicated': 2,\n",
       "  'developed': 1,\n",
       "  'diagnosed': 1,\n",
       "  'done': 2,\n",
       "  'eliminated': 1,\n",
       "  'engaged': 2,\n",
       "  'expected': 1,\n",
       "  'given': 1,\n",
       "  'informed': 6,\n",
       "  'learned': 1,\n",
       "  'limited': 1,\n",
       "  'made': 2,\n",
       "  'named': 3,\n",
       "  'needed': 1,\n",
       "  'noticed': 1,\n",
       "  'oversimplified': 1,\n",
       "  'piled': 1,\n",
       "  'polarized': 1,\n",
       "  'positioned': 1,\n",
       "  'raised': 1,\n",
       "  'realized': 1,\n",
       "  'related': 1,\n",
       "  'reminded': 1,\n",
       "  'required': 1,\n",
       "  'rescued': 1,\n",
       "  'seen': 6,\n",
       "  'selected': 1,\n",
       "  'shared': 2,\n",
       "  'shown': 2,\n",
       "  'spent': 1,\n",
       "  'streamed': 1,\n",
       "  'suited': 2,\n",
       "  'taken': 5,\n",
       "  'told': 1,\n",
       "  'united': 1},\n",
       " 'VBP': {'accomplish': 1,\n",
       "  'accountability': 1,\n",
       "  'accuracy': 1,\n",
       "  'achieve': 1,\n",
       "  'affect': 1,\n",
       "  'agree': 1,\n",
       "  'ai': 2,\n",
       "  'allow': 1,\n",
       "  'ask': 1,\n",
       "  'become': 1,\n",
       "  'beliefs': 1,\n",
       "  'believe': 2,\n",
       "  'bring': 2,\n",
       "  'build': 12,\n",
       "  'call': 2,\n",
       "  'candidate': 1,\n",
       "  'care': 1,\n",
       "  'climate': 1,\n",
       "  'come': 3,\n",
       "  'conflict': 1,\n",
       "  'connect': 4,\n",
       "  'content': 2,\n",
       "  'continue': 2,\n",
       "  'create': 3,\n",
       "  'decide': 1,\n",
       "  'democracy': 1,\n",
       "  'develop': 1,\n",
       "  'disagree': 1,\n",
       "  'discourse': 1,\n",
       "  'disease': 1,\n",
       "  'dispute': 1,\n",
       "  'easier': 1,\n",
       "  'empower': 2,\n",
       "  'encourage': 1,\n",
       "  'encryption': 1,\n",
       "  'engagement': 1,\n",
       "  'enter': 1,\n",
       "  'expand': 1,\n",
       "  'expose': 1,\n",
       "  'face': 1,\n",
       "  'facebook': 7,\n",
       "  'fake': 1,\n",
       "  'feel': 1,\n",
       "  'find': 4,\n",
       "  'form': 1,\n",
       "  'foundation': 1,\n",
       "  'get': 2,\n",
       "  'go': 1,\n",
       "  'hear': 1,\n",
       "  'help': 8,\n",
       "  'hold': 1,\n",
       "  'hope': 6,\n",
       "  'iceland': 1,\n",
       "  'identify': 1,\n",
       "  'imagine': 1,\n",
       "  'intimate': 1,\n",
       "  'join': 1,\n",
       "  'keep': 2,\n",
       "  'kenya': 1,\n",
       "  'know': 3,\n",
       "  'least': 1,\n",
       "  'live': 1,\n",
       "  'look': 2,\n",
       "  'make': 5,\n",
       "  'march': 1,\n",
       "  'mean': 1,\n",
       "  'middle': 1,\n",
       "  'mitigate': 1,\n",
       "  'need': 4,\n",
       "  'odds': 1,\n",
       "  'overestimate': 1,\n",
       "  'plan': 1,\n",
       "  'pollution': 1,\n",
       "  'population': 1,\n",
       "  'poverty': 1,\n",
       "  'principle': 1,\n",
       "  'protect': 1,\n",
       "  'provide': 1,\n",
       "  'purpose': 1,\n",
       "  'reach': 1,\n",
       "  'recover': 1,\n",
       "  'recruit': 1,\n",
       "  'refer': 1,\n",
       "  'reflect': 5,\n",
       "  'register': 1,\n",
       "  'rely': 1,\n",
       "  'require': 1,\n",
       "  'review': 1,\n",
       "  'rewards': 1,\n",
       "  'run': 1,\n",
       "  'san': 1,\n",
       "  'satire': 1,\n",
       "  'save': 1,\n",
       "  'second': 1,\n",
       "  'see': 4,\n",
       "  'seek': 1,\n",
       "  'send': 1,\n",
       "  'sense': 1,\n",
       "  'show': 2,\n",
       "  'sign': 1,\n",
       "  'span': 1,\n",
       "  'spread': 1,\n",
       "  'stand': 1,\n",
       "  'start': 1,\n",
       "  'startups': 1,\n",
       "  'stay': 1,\n",
       "  'step': 1,\n",
       "  'strengthen': 3,\n",
       "  'suffer': 1,\n",
       "  'suggest': 1,\n",
       "  'support': 2,\n",
       "  'survival': 1,\n",
       "  'take': 4,\n",
       "  'tech': 1,\n",
       "  'tell': 1,\n",
       "  'terrorism': 1,\n",
       "  'think': 1,\n",
       "  'thrive': 1,\n",
       "  'try': 1,\n",
       "  'turn': 1,\n",
       "  'use': 2,\n",
       "  'vote': 1,\n",
       "  'want': 12,\n",
       "  'whatsapp': 1,\n",
       "  'worldwide': 3,\n",
       "  'worry': 1},\n",
       " 'VBZ': {'admins': 1,\n",
       "  'amber': 1,\n",
       "  'answers': 1,\n",
       "  'causes': 1,\n",
       "  'connects': 1,\n",
       "  'continues': 1,\n",
       "  'creates': 1,\n",
       "  'discourages': 1,\n",
       "  'examples': 1,\n",
       "  'exposes': 1,\n",
       "  'extremes': 1,\n",
       "  'facts': 1,\n",
       "  'fails': 1,\n",
       "  'fits': 1,\n",
       "  'friends': 3,\n",
       "  'generates': 1,\n",
       "  'goes': 1,\n",
       "  'helps': 5,\n",
       "  'includes': 1,\n",
       "  'involves': 1,\n",
       "  'lens': 1,\n",
       "  'lives': 1,\n",
       "  'means': 1,\n",
       "  'meet': 1,\n",
       "  'messages': 1,\n",
       "  'mistakes': 1,\n",
       "  'moves': 1,\n",
       "  'needs': 4,\n",
       "  'occurs': 1,\n",
       "  'organizes': 1,\n",
       "  'perspectives': 1,\n",
       "  'posts': 1,\n",
       "  'provides': 2,\n",
       "  'raises': 1,\n",
       "  'reflects': 1,\n",
       "  'requires': 3,\n",
       "  'reviews': 1,\n",
       "  'runs': 1,\n",
       "  'scales': 1,\n",
       "  'shows': 1,\n",
       "  'spouses': 1,\n",
       "  'stands': 1,\n",
       "  'starts': 1,\n",
       "  'suggests': 3,\n",
       "  'wins': 1,\n",
       "  'works': 3},\n",
       " 'WDT': {'whatever': 2},\n",
       " 'WP$': {'whose': 1}}"
      ]
     },
     "execution_count": 6,
     "metadata": {},
     "output_type": "execute_result"
    }
   ],
   "source": [
    "POS_wordcount"
   ]
  },
  {
   "cell_type": "code",
   "execution_count": 7,
   "metadata": {
    "collapsed": false
   },
   "outputs": [
    {
     "data": {
      "text/plain": [
       "80"
      ]
     },
     "execution_count": 7,
     "metadata": {},
     "output_type": "execute_result"
    }
   ],
   "source": [
    "POS_wordcount[\"NN\"][\"community\"]"
   ]
  },
  {
   "cell_type": "code",
   "execution_count": null,
   "metadata": {
    "collapsed": true
   },
   "outputs": [],
   "source": []
  }
 ],
 "metadata": {
  "kernelspec": {
   "display_name": "Python 2",
   "language": "python",
   "name": "python2"
  },
  "language_info": {
   "codemirror_mode": {
    "name": "ipython",
    "version": 2
   },
   "file_extension": ".py",
   "mimetype": "text/x-python",
   "name": "python",
   "nbconvert_exporter": "python",
   "pygments_lexer": "ipython2",
   "version": "2.7.11"
  }
 },
 "nbformat": 4,
 "nbformat_minor": 1
}
